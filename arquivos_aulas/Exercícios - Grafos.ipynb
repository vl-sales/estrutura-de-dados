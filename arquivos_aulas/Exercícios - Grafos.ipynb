{
 "cells": [
  {
   "cell_type": "markdown",
   "metadata": {},
   "source": [
    "# Exercícios - DFS e BFS\n",
    "---\n",
    "\n",
    "## Questão 01"
   ]
  },
  {
   "cell_type": "code",
   "execution_count": 21,
   "metadata": {
    "execution": {
     "iopub.execute_input": "2020-12-06T19:24:31.615470Z",
     "iopub.status.busy": "2020-12-06T19:24:31.615132Z",
     "iopub.status.idle": "2020-12-06T19:24:31.622952Z",
     "shell.execute_reply": "2020-12-06T19:24:31.622179Z",
     "shell.execute_reply.started": "2020-12-06T19:24:31.615442Z"
    }
   },
   "outputs": [],
   "source": [
    "class Grafo:\n",
    "    def __init__(self, N):\n",
    "        self.N = N\n",
    "        self.adj = [[] for _ in range(N)]\n",
    "        \n",
    "    def __repr__(self):\n",
    "        return '\\n'.join([str(line) for line in self.adj])\n",
    "    \n",
    "    def add_edge(self, n1, n2):\n",
    "        self.adj[n1].append(n2)\n",
    "        self.adj[n2].append(n1)\n",
    "        \n",
    "    def DFS(self, n, visitados, conectados):\n",
    "        visitados[n] = True\n",
    "        # print('Visitando o nó', n)\n",
    "        conectados.append(n)\n",
    "        \n",
    "        for adjacente in self.adj[n]:\n",
    "            if not visitados[adjacente]:\n",
    "                self.DFS(adjacente, visitados, conectados)"
   ]
  },
  {
   "cell_type": "code",
   "execution_count": 22,
   "metadata": {
    "execution": {
     "iopub.execute_input": "2020-12-06T19:24:32.454116Z",
     "iopub.status.busy": "2020-12-06T19:24:32.453534Z",
     "iopub.status.idle": "2020-12-06T19:24:32.459053Z",
     "shell.execute_reply": "2020-12-06T19:24:32.458031Z",
     "shell.execute_reply.started": "2020-12-06T19:24:32.454041Z"
    }
   },
   "outputs": [],
   "source": [
    "V = 3\n",
    "A = 1"
   ]
  },
  {
   "cell_type": "code",
   "execution_count": 23,
   "metadata": {
    "execution": {
     "iopub.execute_input": "2020-12-06T19:24:32.748367Z",
     "iopub.status.busy": "2020-12-06T19:24:32.747894Z",
     "iopub.status.idle": "2020-12-06T19:24:32.753513Z",
     "shell.execute_reply": "2020-12-06T19:24:32.751849Z",
     "shell.execute_reply.started": "2020-12-06T19:24:32.748317Z"
    }
   },
   "outputs": [],
   "source": [
    "grafo = Grafo(V)"
   ]
  },
  {
   "cell_type": "code",
   "execution_count": 24,
   "metadata": {
    "execution": {
     "iopub.execute_input": "2020-12-06T19:24:33.270785Z",
     "iopub.status.busy": "2020-12-06T19:24:33.270274Z",
     "iopub.status.idle": "2020-12-06T19:24:33.275417Z",
     "shell.execute_reply": "2020-12-06T19:24:33.274484Z",
     "shell.execute_reply.started": "2020-12-06T19:24:33.270737Z"
    }
   },
   "outputs": [],
   "source": [
    "grafo.add_edge(0, 2)"
   ]
  },
  {
   "cell_type": "code",
   "execution_count": 25,
   "metadata": {
    "execution": {
     "iopub.execute_input": "2020-12-06T19:24:34.645118Z",
     "iopub.status.busy": "2020-12-06T19:24:34.644680Z",
     "iopub.status.idle": "2020-12-06T19:24:34.652968Z",
     "shell.execute_reply": "2020-12-06T19:24:34.651655Z",
     "shell.execute_reply.started": "2020-12-06T19:24:34.645075Z"
    }
   },
   "outputs": [
    {
     "data": {
      "text/plain": [
       "[2]\n",
       "[]\n",
       "[0]"
      ]
     },
     "execution_count": 25,
     "metadata": {},
     "output_type": "execute_result"
    }
   ],
   "source": [
    "grafo"
   ]
  },
  {
   "cell_type": "code",
   "execution_count": 18,
   "metadata": {
    "execution": {
     "iopub.execute_input": "2020-12-06T19:23:47.511377Z",
     "iopub.status.busy": "2020-12-06T19:23:47.511018Z",
     "iopub.status.idle": "2020-12-06T19:23:47.517992Z",
     "shell.execute_reply": "2020-12-06T19:23:47.515881Z",
     "shell.execute_reply.started": "2020-12-06T19:23:47.511345Z"
    }
   },
   "outputs": [],
   "source": [
    "visitados = [False] * V"
   ]
  },
  {
   "cell_type": "code",
   "execution_count": 19,
   "metadata": {
    "execution": {
     "iopub.execute_input": "2020-12-06T19:23:47.851577Z",
     "iopub.status.busy": "2020-12-06T19:23:47.850777Z",
     "iopub.status.idle": "2020-12-06T19:23:47.866355Z",
     "shell.execute_reply": "2020-12-06T19:23:47.864308Z",
     "shell.execute_reply.started": "2020-12-06T19:23:47.851493Z"
    }
   },
   "outputs": [
    {
     "data": {
      "text/plain": [
       "[False, False, False]"
      ]
     },
     "execution_count": 19,
     "metadata": {},
     "output_type": "execute_result"
    }
   ],
   "source": [
    "visitados"
   ]
  },
  {
   "cell_type": "code",
   "execution_count": 8,
   "metadata": {
    "execution": {
     "iopub.execute_input": "2020-12-06T19:15:51.556872Z",
     "iopub.status.busy": "2020-12-06T19:15:51.555862Z",
     "iopub.status.idle": "2020-12-06T19:15:51.574620Z",
     "shell.execute_reply": "2020-12-06T19:15:51.573327Z",
     "shell.execute_reply.started": "2020-12-06T19:15:51.556751Z"
    }
   },
   "outputs": [
    {
     "name": "stdout",
     "output_type": "stream",
     "text": [
      "Visitando o nó 0\n",
      "Visitando o nó 2\n"
     ]
    }
   ],
   "source": [
    "grafo.DFS(0, visitados)"
   ]
  },
  {
   "cell_type": "code",
   "execution_count": 9,
   "metadata": {
    "execution": {
     "iopub.execute_input": "2020-12-06T19:16:16.746828Z",
     "iopub.status.busy": "2020-12-06T19:16:16.746347Z",
     "iopub.status.idle": "2020-12-06T19:16:16.753440Z",
     "shell.execute_reply": "2020-12-06T19:16:16.751006Z",
     "shell.execute_reply.started": "2020-12-06T19:16:16.746775Z"
    }
   },
   "outputs": [
    {
     "data": {
      "text/plain": [
       "[True, False, True]"
      ]
     },
     "execution_count": 9,
     "metadata": {},
     "output_type": "execute_result"
    }
   ],
   "source": [
    "visitados"
   ]
  },
  {
   "cell_type": "code",
   "execution_count": 28,
   "metadata": {
    "execution": {
     "iopub.execute_input": "2020-12-06T19:25:33.736718Z",
     "iopub.status.busy": "2020-12-06T19:25:33.735953Z",
     "iopub.status.idle": "2020-12-06T19:25:33.743111Z",
     "shell.execute_reply": "2020-12-06T19:25:33.742279Z",
     "shell.execute_reply.started": "2020-12-06T19:25:33.736641Z"
    }
   },
   "outputs": [
    {
     "name": "stdout",
     "output_type": "stream",
     "text": [
      "Componente 1: [0, 2]\n",
      "Componente 2: [1]\n",
      "\n",
      "Componentes conectados: 2\n"
     ]
    }
   ],
   "source": [
    "visitados = [False] * V\n",
    "qtd_componentes = 0\n",
    "\n",
    "for i in range(V):\n",
    "    if not visitados[i]:\n",
    "        conectados = []\n",
    "        \n",
    "        # print('Aplicando o DFS sobre o nó', i)\n",
    "        grafo.DFS(i, visitados, conectados)\n",
    "        \n",
    "        print(f'Componente {i + 1}: {conectados}')\n",
    "        \n",
    "        qtd_componentes += 1\n",
    "        \n",
    "print('\\nComponentes conectados:', qtd_componentes)"
   ]
  },
  {
   "cell_type": "code",
   "execution_count": null,
   "metadata": {},
   "outputs": [],
   "source": []
  },
  {
   "cell_type": "code",
   "execution_count": 29,
   "metadata": {
    "execution": {
     "iopub.execute_input": "2020-12-06T19:26:03.684906Z",
     "iopub.status.busy": "2020-12-06T19:26:03.684174Z",
     "iopub.status.idle": "2020-12-06T19:26:03.694362Z",
     "shell.execute_reply": "2020-12-06T19:26:03.691886Z",
     "shell.execute_reply.started": "2020-12-06T19:26:03.684831Z"
    }
   },
   "outputs": [],
   "source": [
    "V = 10\n",
    "A = 10"
   ]
  },
  {
   "cell_type": "code",
   "execution_count": 30,
   "metadata": {
    "execution": {
     "iopub.execute_input": "2020-12-06T19:26:04.245102Z",
     "iopub.status.busy": "2020-12-06T19:26:04.244638Z",
     "iopub.status.idle": "2020-12-06T19:26:04.250834Z",
     "shell.execute_reply": "2020-12-06T19:26:04.248975Z",
     "shell.execute_reply.started": "2020-12-06T19:26:04.245057Z"
    }
   },
   "outputs": [],
   "source": [
    "grafo = Grafo(V)"
   ]
  },
  {
   "cell_type": "code",
   "execution_count": 31,
   "metadata": {
    "execution": {
     "iopub.execute_input": "2020-12-06T19:27:01.333581Z",
     "iopub.status.busy": "2020-12-06T19:27:01.332545Z",
     "iopub.status.idle": "2020-12-06T19:27:01.341630Z",
     "shell.execute_reply": "2020-12-06T19:27:01.340865Z",
     "shell.execute_reply.started": "2020-12-06T19:27:01.333501Z"
    }
   },
   "outputs": [],
   "source": [
    "grafo.add_edge(0, 1)\n",
    "grafo.add_edge(0, 2)\n",
    "grafo.add_edge(0, 6)\n",
    "grafo.add_edge(1, 2)\n",
    "grafo.add_edge(2, 6)\n",
    "grafo.add_edge(4, 3)\n",
    "grafo.add_edge(3, 5)\n",
    "grafo.add_edge(7, 8)\n",
    "grafo.add_edge(8, 9)\n",
    "grafo.add_edge(9, 7)"
   ]
  },
  {
   "cell_type": "code",
   "execution_count": 32,
   "metadata": {
    "execution": {
     "iopub.execute_input": "2020-12-06T19:27:07.068959Z",
     "iopub.status.busy": "2020-12-06T19:27:07.068539Z",
     "iopub.status.idle": "2020-12-06T19:27:07.073900Z",
     "shell.execute_reply": "2020-12-06T19:27:07.073197Z",
     "shell.execute_reply.started": "2020-12-06T19:27:07.068923Z"
    }
   },
   "outputs": [
    {
     "data": {
      "text/plain": [
       "[1, 2, 6]\n",
       "[0, 2]\n",
       "[0, 1, 6]\n",
       "[4, 5]\n",
       "[3]\n",
       "[3]\n",
       "[0, 2]\n",
       "[8, 9]\n",
       "[7, 9]\n",
       "[8, 7]"
      ]
     },
     "execution_count": 32,
     "metadata": {},
     "output_type": "execute_result"
    }
   ],
   "source": [
    "grafo"
   ]
  },
  {
   "cell_type": "code",
   "execution_count": 34,
   "metadata": {
    "execution": {
     "iopub.execute_input": "2020-12-06T19:28:13.363182Z",
     "iopub.status.busy": "2020-12-06T19:28:13.362893Z",
     "iopub.status.idle": "2020-12-06T19:28:13.369379Z",
     "shell.execute_reply": "2020-12-06T19:28:13.368508Z",
     "shell.execute_reply.started": "2020-12-06T19:28:13.363155Z"
    }
   },
   "outputs": [
    {
     "name": "stdout",
     "output_type": "stream",
     "text": [
      "Componente 1: [0, 1, 2, 6]\n",
      "Componente 2: [3, 4, 5]\n",
      "Componente 3: [7, 8, 9]\n",
      "\n",
      "Componentes conectados: 3\n"
     ]
    }
   ],
   "source": [
    "visitados = [False] * V\n",
    "qtd_componentes = 0\n",
    "\n",
    "for i in range(V):\n",
    "    if not visitados[i]:\n",
    "        conectados = []\n",
    "        \n",
    "        # print('Aplicando o DFS sobre o nó', i)\n",
    "        grafo.DFS(i, visitados, conectados)\n",
    "        \n",
    "        qtd_componentes += 1\n",
    "        \n",
    "        print(f'Componente {qtd_componentes}: {conectados}')\n",
    "        \n",
    "print('\\nComponentes conectados:', qtd_componentes)"
   ]
  },
  {
   "cell_type": "markdown",
   "metadata": {},
   "source": [
    "---"
   ]
  },
  {
   "cell_type": "markdown",
   "metadata": {},
   "source": [
    "## Questão 02"
   ]
  },
  {
   "cell_type": "code",
   "execution_count": 37,
   "metadata": {
    "execution": {
     "iopub.execute_input": "2020-12-06T19:47:19.238077Z",
     "iopub.status.busy": "2020-12-06T19:47:19.237749Z",
     "iopub.status.idle": "2020-12-06T19:47:19.244732Z",
     "shell.execute_reply": "2020-12-06T19:47:19.243952Z",
     "shell.execute_reply.started": "2020-12-06T19:47:19.238047Z"
    }
   },
   "outputs": [],
   "source": [
    "class Grafo:\n",
    "    def __init__(self, N):\n",
    "        self.N = N\n",
    "        self.adj = [[] for _ in range(N)]\n",
    "        \n",
    "    def __repr__(self):\n",
    "        return '\\n'.join([str(line) for line in self.adj])\n",
    "    \n",
    "    def add_arrow(self, n1, n2):\n",
    "        self.adj[n1].append(n2)\n",
    "        \n",
    "    def DFS(self, n, visitados):\n",
    "        visitados[n] = True\n",
    "        \n",
    "        for adjacente in self.adj[n]:\n",
    "            if not visitados[adjacente]:\n",
    "                return self.DFS(adjacente, visitados)\n",
    "            else:\n",
    "                return True # já foi visitado, portanto, temos um loop na dependência dos documentos\n",
    "        \n",
    "        return False # não tem loop e também não tem mais vértices (documentos) para visitar"
   ]
  },
  {
   "cell_type": "code",
   "execution_count": 38,
   "metadata": {
    "execution": {
     "iopub.execute_input": "2020-12-06T19:47:20.953603Z",
     "iopub.status.busy": "2020-12-06T19:47:20.953337Z",
     "iopub.status.idle": "2020-12-06T19:47:20.956433Z",
     "shell.execute_reply": "2020-12-06T19:47:20.955826Z",
     "shell.execute_reply.started": "2020-12-06T19:47:20.953579Z"
    }
   },
   "outputs": [],
   "source": [
    "V = 4\n",
    "A = 4"
   ]
  },
  {
   "cell_type": "code",
   "execution_count": 56,
   "metadata": {
    "execution": {
     "iopub.execute_input": "2020-12-06T19:51:00.405822Z",
     "iopub.status.busy": "2020-12-06T19:51:00.405460Z",
     "iopub.status.idle": "2020-12-06T19:51:00.409163Z",
     "shell.execute_reply": "2020-12-06T19:51:00.408172Z",
     "shell.execute_reply.started": "2020-12-06T19:51:00.405793Z"
    }
   },
   "outputs": [],
   "source": [
    "grafo = Grafo(V)"
   ]
  },
  {
   "cell_type": "code",
   "execution_count": 57,
   "metadata": {
    "execution": {
     "iopub.execute_input": "2020-12-06T19:51:01.359932Z",
     "iopub.status.busy": "2020-12-06T19:51:01.359507Z",
     "iopub.status.idle": "2020-12-06T19:51:01.365758Z",
     "shell.execute_reply": "2020-12-06T19:51:01.364437Z",
     "shell.execute_reply.started": "2020-12-06T19:51:01.359891Z"
    }
   },
   "outputs": [],
   "source": [
    "grafo.add_arrow(1, 2)\n",
    "grafo.add_arrow(2, 3)\n",
    "grafo.add_arrow(3, 1)\n",
    "grafo.add_arrow(0, 2)"
   ]
  },
  {
   "cell_type": "code",
   "execution_count": 58,
   "metadata": {
    "execution": {
     "iopub.execute_input": "2020-12-06T19:51:02.424981Z",
     "iopub.status.busy": "2020-12-06T19:51:02.424575Z",
     "iopub.status.idle": "2020-12-06T19:51:02.429597Z",
     "shell.execute_reply": "2020-12-06T19:51:02.428412Z",
     "shell.execute_reply.started": "2020-12-06T19:51:02.424943Z"
    }
   },
   "outputs": [],
   "source": [
    "visitados = [False] * V"
   ]
  },
  {
   "cell_type": "code",
   "execution_count": 59,
   "metadata": {
    "execution": {
     "iopub.execute_input": "2020-12-06T19:51:03.153906Z",
     "iopub.status.busy": "2020-12-06T19:51:03.152952Z",
     "iopub.status.idle": "2020-12-06T19:51:03.162436Z",
     "shell.execute_reply": "2020-12-06T19:51:03.159703Z",
     "shell.execute_reply.started": "2020-12-06T19:51:03.153814Z"
    }
   },
   "outputs": [],
   "source": [
    "# grafo.DFS(0, visitados)"
   ]
  },
  {
   "cell_type": "code",
   "execution_count": 60,
   "metadata": {
    "execution": {
     "iopub.execute_input": "2020-12-06T19:51:03.869377Z",
     "iopub.status.busy": "2020-12-06T19:51:03.868568Z",
     "iopub.status.idle": "2020-12-06T19:51:03.876761Z",
     "shell.execute_reply": "2020-12-06T19:51:03.875698Z",
     "shell.execute_reply.started": "2020-12-06T19:51:03.869304Z"
    }
   },
   "outputs": [
    {
     "name": "stdout",
     "output_type": "stream",
     "text": [
      "Existe loop nos documentos!\n"
     ]
    }
   ],
   "source": [
    "if grafo.DFS(0, visitados) == True:\n",
    "    print('Existe loop nos documentos!')\n",
    "else:\n",
    "    print('Não existem loops nos documentos!')"
   ]
  },
  {
   "cell_type": "code",
   "execution_count": null,
   "metadata": {},
   "outputs": [],
   "source": []
  }
 ],
 "metadata": {
  "kernelspec": {
   "display_name": "Python 3",
   "language": "python",
   "name": "python3"
  },
  "language_info": {
   "codemirror_mode": {
    "name": "ipython",
    "version": 3
   },
   "file_extension": ".py",
   "mimetype": "text/x-python",
   "name": "python",
   "nbconvert_exporter": "python",
   "pygments_lexer": "ipython3",
   "version": "3.8.5"
  }
 },
 "nbformat": 4,
 "nbformat_minor": 4
}
