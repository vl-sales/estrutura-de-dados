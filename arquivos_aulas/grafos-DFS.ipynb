{
 "cells": [
  {
   "cell_type": "markdown",
   "metadata": {},
   "source": [
    "### Grafos\n",
    "---"
   ]
  },
  {
   "cell_type": "markdown",
   "metadata": {},
   "source": [
    "### Tipos de grafos\n",
    "\n",
    "1. Grafo Dirigido\n",
    "2. Grafo não Dirigido"
   ]
  },
  {
   "cell_type": "markdown",
   "metadata": {},
   "source": [
    "### 1.Matriz de Adjacência"
   ]
  },
  {
   "cell_type": "code",
   "execution_count": 1,
   "metadata": {
    "ExecuteTime": {
     "end_time": "2020-12-03T22:22:53.962132Z",
     "start_time": "2020-12-03T22:22:53.645264Z"
    }
   },
   "outputs": [],
   "source": [
    "import numpy as np"
   ]
  },
  {
   "cell_type": "code",
   "execution_count": 53,
   "metadata": {
    "ExecuteTime": {
     "end_time": "2020-12-03T23:04:10.038020Z",
     "start_time": "2020-12-03T23:04:10.021986Z"
    }
   },
   "outputs": [],
   "source": [
    "class Grafo:\n",
    "    def __init__(self, N):\n",
    "        self.N = N\n",
    "        #representação da Matriz\n",
    "        self.adj = np.zeros((N, N))\n",
    "    def __repr__(self):\n",
    "        return str(self.adj)\n",
    "    def add_arrow(self, n1, n2, weight=1):\n",
    "        self.adj[n1, n2] = weight\n",
    "    def add_edge(self, n1, n2, weigth=1):\n",
    "        self.add_arrow(n1, n2, weigth)\n",
    "        self.add_arrow(n2, n1, weigth)    \n",
    "    def get_neighbirs(self, n):\n",
    "        return [i for i, v in enumerate(self.adj[n]) if v]"
   ]
  },
  {
   "cell_type": "code",
   "execution_count": 54,
   "metadata": {
    "ExecuteTime": {
     "end_time": "2020-12-03T23:04:11.012097Z",
     "start_time": "2020-12-03T23:04:11.006214Z"
    }
   },
   "outputs": [],
   "source": [
    "grafo = Grafo(7)"
   ]
  },
  {
   "cell_type": "code",
   "execution_count": 55,
   "metadata": {
    "ExecuteTime": {
     "end_time": "2020-12-03T23:04:11.758837Z",
     "start_time": "2020-12-03T23:04:11.751065Z"
    }
   },
   "outputs": [],
   "source": [
    "grafo.add_edge(0, 1)\n",
    "grafo.add_edge(0, 2)\n",
    "grafo.add_edge(1, 2)\n",
    "grafo.add_edge(1, 3)\n",
    "grafo.add_edge(2, 4)\n",
    "grafo.add_edge(3, 4)\n",
    "grafo.add_edge(4, 5)\n",
    "grafo.add_edge(5, 6)"
   ]
  },
  {
   "cell_type": "code",
   "execution_count": 56,
   "metadata": {
    "ExecuteTime": {
     "end_time": "2020-12-03T23:04:12.685134Z",
     "start_time": "2020-12-03T23:04:12.669689Z"
    }
   },
   "outputs": [
    {
     "data": {
      "text/plain": [
       "[[0. 1. 1. 0. 0. 0. 0.]\n",
       " [1. 0. 1. 1. 0. 0. 0.]\n",
       " [1. 1. 0. 0. 1. 0. 0.]\n",
       " [0. 1. 0. 0. 1. 0. 0.]\n",
       " [0. 0. 1. 1. 0. 1. 0.]\n",
       " [0. 0. 0. 0. 1. 0. 1.]\n",
       " [0. 0. 0. 0. 0. 1. 0.]]"
      ]
     },
     "execution_count": 56,
     "metadata": {},
     "output_type": "execute_result"
    }
   ],
   "source": [
    "grafo"
   ]
  },
  {
   "cell_type": "code",
   "execution_count": 57,
   "metadata": {
    "ExecuteTime": {
     "end_time": "2020-12-03T23:04:13.759826Z",
     "start_time": "2020-12-03T23:04:13.751805Z"
    }
   },
   "outputs": [
    {
     "data": {
      "text/plain": [
       "[1, 2]"
      ]
     },
     "execution_count": 57,
     "metadata": {},
     "output_type": "execute_result"
    }
   ],
   "source": [
    "grafo.get_neighbirs(0)"
   ]
  },
  {
   "cell_type": "markdown",
   "metadata": {},
   "source": [
    "### 2. Lista de Adjacências"
   ]
  },
  {
   "cell_type": "code",
   "execution_count": 107,
   "metadata": {
    "ExecuteTime": {
     "end_time": "2020-12-03T23:36:02.877805Z",
     "start_time": "2020-12-03T23:36:02.861939Z"
    }
   },
   "outputs": [],
   "source": [
    "class GrafoLista:\n",
    "    def __init__(self, N):\n",
    "        self.N = N\n",
    "        self.adj = [[] for _ in range(N)]\n",
    "    def __repr__(self):\n",
    "        l = [str(line) for line in self.adj]\n",
    "        return '\\n'.join(l)\n",
    "\n",
    "    def add_arrow(self, n1, n2):\n",
    "        if n2 not in self.adj[n1]:\n",
    "            self.adj[n1].append(n2)\n",
    "        else:\n",
    "            return 'Valores já estão conectados'\n",
    "    def add_edge(self, n1, n2):\n",
    "        self.add_arrow(n1, n2)\n",
    "        self.add_arrow(n2, n1)\n",
    "    \n",
    "    def get_neighbors(self, n):\n",
    "        return self.adj[n]"
   ]
  },
  {
   "cell_type": "code",
   "execution_count": 108,
   "metadata": {
    "ExecuteTime": {
     "end_time": "2020-12-03T23:36:04.936280Z",
     "start_time": "2020-12-03T23:36:04.927936Z"
    }
   },
   "outputs": [],
   "source": [
    "grafo = GrafoLista(4)"
   ]
  },
  {
   "cell_type": "code",
   "execution_count": 109,
   "metadata": {
    "ExecuteTime": {
     "end_time": "2020-12-03T23:36:06.675395Z",
     "start_time": "2020-12-03T23:36:06.668615Z"
    }
   },
   "outputs": [],
   "source": [
    "grafo.add_arrow(0, 1)\n",
    "grafo.add_arrow(0, 2)\n",
    "grafo.add_arrow(1, 2)\n",
    "grafo.add_arrow(3, 0)"
   ]
  },
  {
   "cell_type": "code",
   "execution_count": 111,
   "metadata": {
    "ExecuteTime": {
     "end_time": "2020-12-03T23:36:09.310121Z",
     "start_time": "2020-12-03T23:36:09.295177Z"
    }
   },
   "outputs": [
    {
     "data": {
      "text/plain": [
       "[1, 2]\n",
       "[2]\n",
       "[]\n",
       "[0]"
      ]
     },
     "execution_count": 111,
     "metadata": {},
     "output_type": "execute_result"
    }
   ],
   "source": [
    "grafo"
   ]
  },
  {
   "cell_type": "code",
   "execution_count": 113,
   "metadata": {
    "ExecuteTime": {
     "end_time": "2020-12-04T01:03:28.834232Z",
     "start_time": "2020-12-04T01:03:28.810237Z"
    }
   },
   "outputs": [
    {
     "data": {
      "text/plain": [
       "[1, 2]"
      ]
     },
     "execution_count": 113,
     "metadata": {},
     "output_type": "execute_result"
    }
   ],
   "source": [
    "grafo.get_neighbors(0)"
   ]
  },
  {
   "cell_type": "code",
   "execution_count": null,
   "metadata": {},
   "outputs": [],
   "source": []
  },
  {
   "cell_type": "markdown",
   "metadata": {},
   "source": [
    "# DFS - Busca por profundidade"
   ]
  },
  {
   "cell_type": "code",
   "execution_count": 3,
   "metadata": {
    "ExecuteTime": {
     "end_time": "2020-12-07T23:24:39.390021Z",
     "start_time": "2020-12-07T23:24:39.374307Z"
    }
   },
   "outputs": [],
   "source": [
    "class Grafo:\n",
    "    def __init__(self, N):\n",
    "        self.N = N\n",
    "        self.adj = [[] for _ in range(N)]\n",
    "    def __repr__(self):\n",
    "        l = [str(line) for line in self.adj]\n",
    "        return '\\n'.join(l)\n",
    "\n",
    "    def add_arrow(self, n1, n2):\n",
    "        if n2 not in self.adj[n1]:\n",
    "            self.adj[n1].append(n2)\n",
    "        else:\n",
    "            return 'Valores já estão conectados'\n",
    "    def add_edge(self, n1, n2):\n",
    "        self.add_arrow(n1, n2)\n",
    "        self.add_arrow(n2, n1)\n",
    "        \n",
    "    def DFS(self, no_inicio, vistados):\n",
    "        visitados[no_inicio] = True\n",
    "        \n",
    "        print('Visitando o nó {}'.format(no_inicio))\n",
    "        \n",
    "        for adjacente in self.adj[no_inicio]:\n",
    "            print(adjacente)\n",
    "            if not visitados[adjacente]:\n",
    "                self.DFS(adjacente, visitados)"
   ]
  },
  {
   "cell_type": "code",
   "execution_count": 4,
   "metadata": {
    "ExecuteTime": {
     "end_time": "2020-12-07T23:24:39.874149Z",
     "start_time": "2020-12-07T23:24:39.866648Z"
    }
   },
   "outputs": [],
   "source": [
    "grafo = Grafo(4)"
   ]
  },
  {
   "cell_type": "code",
   "execution_count": 5,
   "metadata": {
    "ExecuteTime": {
     "end_time": "2020-12-07T23:24:40.769419Z",
     "start_time": "2020-12-07T23:24:40.753865Z"
    }
   },
   "outputs": [],
   "source": [
    "grafo.add_edge(0, 1)\n",
    "grafo.add_edge(0, 2)\n",
    "grafo.add_edge(1, 2)\n",
    "grafo.add_edge(3, 0)"
   ]
  },
  {
   "cell_type": "code",
   "execution_count": 6,
   "metadata": {
    "ExecuteTime": {
     "end_time": "2020-12-07T23:24:42.752167Z",
     "start_time": "2020-12-07T23:24:42.719485Z"
    }
   },
   "outputs": [
    {
     "data": {
      "text/plain": [
       "[False, False, False, False]"
      ]
     },
     "execution_count": 6,
     "metadata": {},
     "output_type": "execute_result"
    }
   ],
   "source": [
    "visitados = [False for i in range(grafo.N)]\n",
    "visitados"
   ]
  },
  {
   "cell_type": "code",
   "execution_count": 7,
   "metadata": {
    "ExecuteTime": {
     "end_time": "2020-12-07T23:24:44.509494Z",
     "start_time": "2020-12-07T23:24:44.493455Z"
    }
   },
   "outputs": [
    {
     "name": "stdout",
     "output_type": "stream",
     "text": [
      "Visitando o nó 0\n",
      "1\n",
      "Visitando o nó 1\n",
      "0\n",
      "2\n",
      "Visitando o nó 2\n",
      "0\n",
      "1\n",
      "2\n",
      "3\n",
      "Visitando o nó 3\n",
      "0\n"
     ]
    }
   ],
   "source": [
    "grafo.DFS(0, visitados)"
   ]
  },
  {
   "cell_type": "code",
   "execution_count": null,
   "metadata": {},
   "outputs": [],
   "source": []
  }
 ],
 "metadata": {
  "kernelspec": {
   "display_name": "Python 3",
   "language": "python",
   "name": "python3"
  },
  "language_info": {
   "codemirror_mode": {
    "name": "ipython",
    "version": 3
   },
   "file_extension": ".py",
   "mimetype": "text/x-python",
   "name": "python",
   "nbconvert_exporter": "python",
   "pygments_lexer": "ipython3",
   "version": "3.8.5"
  }
 },
 "nbformat": 4,
 "nbformat_minor": 4
}
