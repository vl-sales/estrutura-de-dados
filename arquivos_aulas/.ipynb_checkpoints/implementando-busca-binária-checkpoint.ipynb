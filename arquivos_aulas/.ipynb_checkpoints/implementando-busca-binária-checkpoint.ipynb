{
 "cells": [
  {
   "cell_type": "code",
   "execution_count": 1,
   "metadata": {
    "ExecuteTime": {
     "end_time": "2020-11-27T23:34:26.302572Z",
     "start_time": "2020-11-27T23:34:26.147971Z"
    }
   },
   "outputs": [],
   "source": [
    "import numpy as np"
   ]
  },
  {
   "cell_type": "code",
   "execution_count": 12,
   "metadata": {
    "ExecuteTime": {
     "end_time": "2020-11-27T23:37:35.896811Z",
     "start_time": "2020-11-27T23:37:35.711490Z"
    }
   },
   "outputs": [],
   "source": [
    "array = np.arange(100000000)"
   ]
  },
  {
   "cell_type": "code",
   "execution_count": 123,
   "metadata": {
    "ExecuteTime": {
     "end_time": "2020-11-27T23:33:23.470762Z",
     "start_time": "2020-11-27T23:33:23.347561Z"
    }
   },
   "outputs": [
    {
     "data": {
      "text/plain": [
       "True"
      ]
     },
     "execution_count": 123,
     "metadata": {},
     "output_type": "execute_result"
    }
   ],
   "source": [
    "1e7 in array"
   ]
  },
  {
   "cell_type": "markdown",
   "metadata": {},
   "source": [
    "### Implementando a Busca Binária"
   ]
  },
  {
   "cell_type": "code",
   "execution_count": 20,
   "metadata": {
    "ExecuteTime": {
     "end_time": "2020-11-27T23:40:33.365854Z",
     "start_time": "2020-11-27T23:40:33.359695Z"
    }
   },
   "outputs": [],
   "source": [
    "def busca_binaria(array, elemento):\n",
    "    meio = len(array) // 2\n",
    "    if array[meio] == elemento:\n",
    "        return True\n",
    "    elif len(array) == 1:\n",
    "        return False\n",
    "    elif elemento > array[meio]:\n",
    "        return busca_binaria(array[meio+1:], elemento)\n",
    "    elif elemento < array[meio]:\n",
    "        return busca_binaria(array[:meio], elemento)\n",
    "        "
   ]
  },
  {
   "cell_type": "code",
   "execution_count": 24,
   "metadata": {
    "ExecuteTime": {
     "end_time": "2020-11-27T23:46:53.398747Z",
     "start_time": "2020-11-27T23:46:53.389045Z"
    }
   },
   "outputs": [
    {
     "name": "stdout",
     "output_type": "stream",
     "text": [
      "Wall time: 0 ns\n"
     ]
    },
    {
     "data": {
      "text/plain": [
       "True"
      ]
     },
     "execution_count": 24,
     "metadata": {},
     "output_type": "execute_result"
    }
   ],
   "source": [
    "#Apesar do 'in' ser otimizado e não demorar para realizar a busca, a busca binária consegue ser ainda\n",
    "#mais rápida.\n",
    "%time busca_binaria(array, 1e8 - 1)"
   ]
  },
  {
   "cell_type": "markdown",
   "metadata": {},
   "source": [
    "### Algoritmos de Ordenação\n",
    "---"
   ]
  },
  {
   "cell_type": "code",
   "execution_count": null,
   "metadata": {},
   "outputs": [],
   "source": []
  },
  {
   "cell_type": "markdown",
   "metadata": {},
   "source": [
    "## Árvores"
   ]
  },
  {
   "cell_type": "code",
   "execution_count": 62,
   "metadata": {
    "ExecuteTime": {
     "end_time": "2020-11-28T01:21:18.950171Z",
     "start_time": "2020-11-28T01:21:18.943170Z"
    }
   },
   "outputs": [],
   "source": [
    "class Arvore:\n",
    "    def __init__(self, raiz, esquerda=None, direita=None):\n",
    "        self.raiz = raiz\n",
    "        self.esquerda = esquerda\n",
    "        self.direita = direita\n",
    "    def __repr__(self):\n",
    "        return f'Árvore com raiz {self.raiz} e com descendentes:\\n\\t {self.esquerda} e {self.direita}'\n",
    "    \n",
    "    def binary_search(self, procurado):\n",
    "        if self.raiz == procurado:\n",
    "            return True\n",
    "        elif self.esquerda == None or self.direita == None:\n",
    "            return False\n",
    "        elif procurado < self.raiz:\n",
    "            return self.esquerda.binary_search(procurado)\n",
    "        elif procurado > self.raiz:\n",
    "            return self.direita.binary_search(procurado)"
   ]
  },
  {
   "cell_type": "code",
   "execution_count": 63,
   "metadata": {
    "ExecuteTime": {
     "end_time": "2020-11-28T01:21:20.416151Z",
     "start_time": "2020-11-28T01:21:20.413148Z"
    }
   },
   "outputs": [],
   "source": [
    "arvore = Arvore(7,\n",
    "                  esquerda = Arvore(5,\n",
    "                                      esquerda = Arvore(1),\n",
    "                                      direita = Arvore(6)),\n",
    "                  direita = Arvore(10,\n",
    "                                     esquerda = Arvore(8),\n",
    "                                     direita = Arvore(12)))"
   ]
  },
  {
   "cell_type": "code",
   "execution_count": 66,
   "metadata": {
    "ExecuteTime": {
     "end_time": "2020-11-28T01:21:49.197719Z",
     "start_time": "2020-11-28T01:21:49.193721Z"
    }
   },
   "outputs": [
    {
     "data": {
      "text/plain": [
       "True"
      ]
     },
     "execution_count": 66,
     "metadata": {},
     "output_type": "execute_result"
    }
   ],
   "source": [
    "arvore.binary_search(1)"
   ]
  }
 ],
 "metadata": {
  "kernelspec": {
   "display_name": "Python 3",
   "language": "python",
   "name": "python3"
  },
  "language_info": {
   "codemirror_mode": {
    "name": "ipython",
    "version": 3
   },
   "file_extension": ".py",
   "mimetype": "text/x-python",
   "name": "python",
   "nbconvert_exporter": "python",
   "pygments_lexer": "ipython3",
   "version": "3.8.5"
  }
 },
 "nbformat": 4,
 "nbformat_minor": 4
}
