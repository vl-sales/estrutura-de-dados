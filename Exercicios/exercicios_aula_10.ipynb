{
 "cells": [
  {
   "cell_type": "code",
   "execution_count": 1,
   "metadata": {
    "ExecuteTime": {
     "end_time": "2020-12-11T14:56:43.540020Z",
     "start_time": "2020-12-11T14:56:43.348429Z"
    }
   },
   "outputs": [],
   "source": [
    "import numpy as np"
   ]
  },
  {
   "cell_type": "code",
   "execution_count": 15,
   "metadata": {
    "ExecuteTime": {
     "end_time": "2020-12-10T12:05:08.103332Z",
     "start_time": "2020-12-10T12:05:08.086825Z"
    }
   },
   "outputs": [],
   "source": [
    "class Grafo:\n",
    "    def __init__(self, V):\n",
    "        self.V = V\n",
    "        self.adj = np.zeros((V, V))\n",
    "        \n",
    "    def __repr__(self):\n",
    "        return str(self.adj)\n",
    "    \n",
    "    def add_edge(self, n1, n2):\n",
    "        self.adj[n1, n2] = 1\n",
    "        self.adj[n2, n1] = 1\n",
    "    \n",
    "    def cria_grafo(self):\n",
    "        for _ in range(self.A):\n",
    "            n1 = input('Informe o primeiro nó a ser conectado: ')\n",
    "            n2 = input('Informe o segundo nó a ser conectado: ')\n",
    "            \n",
    "            add_edge(n1, n2)\n",
    "    \n",
    "    def possuem_conexao(self, n):\n",
    "        return [i for i, v in enumerate(self.adj[n]) if v]\n",
    "    \n",
    "    def DFS(self, n, visitados, conectados):\n",
    "        visitados[n] = True\n",
    "        \n",
    "        conectados.append(n)\n",
    "        \n",
    "        for adjacente in self.possuem_conexao(n):\n",
    "            if not visitados[adjacente]:\n",
    "                self.DFS(adjacente, visitados, conectados)\n",
    "                \n",
    "        return conectados"
   ]
  },
  {
   "cell_type": "code",
   "execution_count": 16,
   "metadata": {
    "ExecuteTime": {
     "end_time": "2020-12-10T12:05:08.781727Z",
     "start_time": "2020-12-10T12:05:08.765181Z"
    }
   },
   "outputs": [],
   "source": [
    "V = 10\n",
    "grafo = Grafo(V)\n",
    "grafo.add_edge(0, 1)\n",
    "grafo.add_edge(0, 2)\n",
    "grafo.add_edge(0, 6)\n",
    "grafo.add_edge(1, 2)\n",
    "grafo.add_edge(2, 6)\n",
    "grafo.add_edge(4, 3)\n",
    "grafo.add_edge(3, 5)\n",
    "grafo.add_edge(7, 8)\n",
    "grafo.add_edge(8, 9)\n",
    "grafo.add_edge(9, 7)"
   ]
  },
  {
   "cell_type": "code",
   "execution_count": 23,
   "metadata": {
    "ExecuteTime": {
     "end_time": "2020-12-10T22:15:49.401729Z",
     "start_time": "2020-12-10T22:15:49.393731Z"
    }
   },
   "outputs": [
    {
     "name": "stdout",
     "output_type": "stream",
     "text": [
      "Este grafo possui 3 componentes, sendo eles:\n",
      "[0, 1, 2, 6]\n",
      "[3, 4, 5]\n",
      "[7, 8, 9]\n"
     ]
    }
   ],
   "source": [
    "visitados = [False] * V\n",
    "conexoes = []\n",
    "\n",
    "for i in range(V):\n",
    "    if not visitados[i]:\n",
    "        adjacentes = grafo.DFS(i, visitados, [])\n",
    "    if adjacentes not in conexoes:\n",
    "        conexoes.append(adjacentes)\n",
    "    \n",
    "print(f'Este grafo possui {len(conexoes)} componentes, sendo eles:')\n",
    "for i in conexoes:\n",
    "    print(i)"
   ]
  },
  {
   "cell_type": "markdown",
   "metadata": {},
   "source": [
    "### Questão 2"
   ]
  },
  {
   "cell_type": "code",
   "execution_count": 8,
   "metadata": {
    "ExecuteTime": {
     "end_time": "2020-12-11T15:05:05.563201Z",
     "start_time": "2020-12-11T15:05:05.553202Z"
    }
   },
   "outputs": [],
   "source": [
    "class Grafo:\n",
    "    def __init__(self, V):\n",
    "        self.V = V\n",
    "        self.adj = [[] for _ in range(V)]\n",
    "        \n",
    "    def __repr__(self):\n",
    "        return '\\n'.join([str(line) for line in self.adj])\n",
    "    \n",
    "    def add_edge(self, n1, n2):\n",
    "        self.adj[n1].append(n2)\n",
    "        self.adj[n2].append(n1)\n",
    "    \n",
    "    def add_arrow(self, n1, n2):\n",
    "        self.adj[n1].append(n2)\n",
    "    \n",
    "    def DFS(self, n, visitados):\n",
    "        visitados[n] = True\n",
    "        \n",
    "        for adjacente in self.adj[n]:\n",
    "            if not visitados[adjacente]:\n",
    "                self.DFS(adjacente, visitados)\n",
    "            else:\n",
    "                return False"
   ]
  },
  {
   "cell_type": "code",
   "execution_count": 14,
   "metadata": {
    "ExecuteTime": {
     "end_time": "2020-12-11T15:06:48.733553Z",
     "start_time": "2020-12-11T15:06:48.729520Z"
    }
   },
   "outputs": [],
   "source": [
    "V = 4\n",
    "A = 4\n",
    "\n",
    "visitados = [False] * V"
   ]
  },
  {
   "cell_type": "code",
   "execution_count": 15,
   "metadata": {
    "ExecuteTime": {
     "end_time": "2020-12-11T15:06:49.063125Z",
     "start_time": "2020-12-11T15:06:49.057123Z"
    }
   },
   "outputs": [
    {
     "name": "stdout",
     "output_type": "stream",
     "text": [
      "Há um loop\n"
     ]
    }
   ],
   "source": [
    "grafo = Grafo(V)\n",
    "grafo.add_arrow(1, 2)\n",
    "grafo.add_arrow(2, 3)\n",
    "grafo.add_arrow(3, 1)\n",
    "grafo.add_arrow(0, 2)\n",
    "\n",
    "if not grafo.DFS(0, visitados):\n",
    "    print('Há um loop')\n",
    "else:\n",
    "    print('Não há um loop')"
   ]
  },
  {
   "cell_type": "code",
   "execution_count": null,
   "metadata": {},
   "outputs": [],
   "source": []
  }
 ],
 "metadata": {
  "kernelspec": {
   "display_name": "Python 3",
   "language": "python",
   "name": "python3"
  },
  "language_info": {
   "codemirror_mode": {
    "name": "ipython",
    "version": 3
   },
   "file_extension": ".py",
   "mimetype": "text/x-python",
   "name": "python",
   "nbconvert_exporter": "python",
   "pygments_lexer": "ipython3",
   "version": "3.8.5"
  }
 },
 "nbformat": 4,
 "nbformat_minor": 4
}
