{
 "cells": [
  {
   "cell_type": "code",
   "execution_count": 39,
   "metadata": {
    "ExecuteTime": {
     "end_time": "2020-11-29T18:10:49.781421Z",
     "start_time": "2020-11-29T18:10:49.765183Z"
    }
   },
   "outputs": [],
   "source": [
    "class Arvore:\n",
    "    def __init__(self, raiz, direita=None, esquerda=None):\n",
    "        self.raiz = raiz\n",
    "        self.direita = direita\n",
    "        self.esquerda = esquerda\n",
    "    \n",
    "    def diagnostico(self):\n",
    "        if self.esquerda == None and self.direita == None:\n",
    "            return self.raiz\n",
    "        \n",
    "        resposta = input(f'Está sentindo {self.raiz}(S/N): ').upper()\n",
    "        \n",
    "        if resposta == 'S':\n",
    "            return self.direita.diagnostico()\n",
    "        elif resposta == 'N':\n",
    "            return self.esquerda.diagnostico()\n",
    "        "
   ]
  },
  {
   "cell_type": "code",
   "execution_count": 40,
   "metadata": {
    "ExecuteTime": {
     "end_time": "2020-11-29T18:10:50.693204Z",
     "start_time": "2020-11-29T18:10:50.669719Z"
    }
   },
   "outputs": [],
   "source": [
    "arvore = Arvore('Mal estar',\n",
    "                direita = Arvore('Dor de cabeça',\n",
    "                                direita = Arvore('Boca seca',\n",
    "                                                direita = Arvore('Ressaca'),\n",
    "                                                esquerda = Arvore('Falta de café')),\n",
    "                                esquerda = Arvore('Vomito',\n",
    "                                                 direita = Arvore('Infecção intestinal'),\n",
    "                                                 esquerda = Arvore('Fome'))),\n",
    "                esquerda = Arvore('Febre',\n",
    "                                direita = Arvore('Mancha',\n",
    "                                                direita = Arvore('Sarampo'),\n",
    "                                                esquerda = Arvore('Virose')),\n",
    "                                esquerda = Arvore('Dor de cabeça',\n",
    "                                                 direita = Arvore('Fadiga'),\n",
    "                                                 esquerda = Arvore('Saudável'))))"
   ]
  },
  {
   "cell_type": "code",
   "execution_count": 41,
   "metadata": {
    "ExecuteTime": {
     "end_time": "2020-11-29T18:10:52.921241Z",
     "start_time": "2020-11-29T18:10:51.467505Z"
    }
   },
   "outputs": [
    {
     "name": "stdout",
     "output_type": "stream",
     "text": [
      "Está sentindo Mal estar(S/N): dadasd\n"
     ]
    }
   ],
   "source": [
    "arvore.diagnostico()"
   ]
  },
  {
   "cell_type": "code",
   "execution_count": null,
   "metadata": {},
   "outputs": [],
   "source": []
  }
 ],
 "metadata": {
  "kernelspec": {
   "display_name": "Python 3",
   "language": "python",
   "name": "python3"
  },
  "language_info": {
   "codemirror_mode": {
    "name": "ipython",
    "version": 3
   },
   "file_extension": ".py",
   "mimetype": "text/x-python",
   "name": "python",
   "nbconvert_exporter": "python",
   "pygments_lexer": "ipython3",
   "version": "3.8.5"
  }
 },
 "nbformat": 4,
 "nbformat_minor": 4
}
