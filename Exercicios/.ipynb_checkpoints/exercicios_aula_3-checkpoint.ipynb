{
 "cells": [
  {
   "cell_type": "code",
   "execution_count": 1,
   "metadata": {},
   "outputs": [],
   "source": [
    "import numpy as np"
   ]
  },
  {
   "cell_type": "markdown",
   "metadata": {},
   "source": [
    "### 1. Crie um array com todos os números entre 0 e 20. Remova desse array todos os números ímpares.\n",
    "---"
   ]
  },
  {
   "cell_type": "code",
   "execution_count": 4,
   "metadata": {},
   "outputs": [
    {
     "data": {
      "text/plain": [
       "array([ 0,  1,  2,  3,  4,  5,  6,  7,  8,  9, 10, 11, 12, 13, 14, 15, 16,\n",
       "       17, 18, 19, 20])"
      ]
     },
     "execution_count": 4,
     "metadata": {},
     "output_type": "execute_result"
    }
   ],
   "source": [
    "np.arange(21)"
   ]
  },
  {
   "cell_type": "markdown",
   "metadata": {},
   "source": [
    "### 2. Crie um array unidimensional que vai de 0 a 8 e depois converta-o em um array bidimensional e quadrado (ou matriz quadrada).\n",
    "---"
   ]
  },
  {
   "cell_type": "code",
   "execution_count": 13,
   "metadata": {},
   "outputs": [],
   "source": [
    "array = np.arange(9)\n",
    "array.shape = (3, 3)"
   ]
  },
  {
   "cell_type": "markdown",
   "metadata": {},
   "source": [
    "### 3. Considere dois arrays, sendo o primeiro com duas linhas por cinco colunas (2 x 5), com valores de 0 a 9, e outro com três linhas por cinco colunas (3 x 5), com valores de 10 a 24. A partir disso, crie um terceiro array com dimensões 5 x 5 concatenando verticalmente os arrays anteriores.\n",
    "---"
   ]
  },
  {
   "cell_type": "code",
   "execution_count": 2,
   "metadata": {},
   "outputs": [],
   "source": [
    "array1 = np.arange(10)\n",
    "array1 = array1.reshape(2, 5)\n",
    "\n",
    "array2 = np.arange(10, 25)\n",
    "array2.shape = (3, 5)"
   ]
  },
  {
   "cell_type": "code",
   "execution_count": 5,
   "metadata": {},
   "outputs": [
    {
     "data": {
      "text/plain": [
       "array([[ 0,  1,  2,  3,  4],\n",
       "       [ 5,  6,  7,  8,  9],\n",
       "       [10, 11, 12, 13, 14],\n",
       "       [15, 16, 17, 18, 19],\n",
       "       [20, 21, 22, 23, 24]])"
      ]
     },
     "execution_count": 5,
     "metadata": {},
     "output_type": "execute_result"
    }
   ],
   "source": [
    "np.concatenate((array1, array2))\n",
    "        # ou\n",
    "np.vstack((array1, array2))"
   ]
  },
  {
   "cell_type": "markdown",
   "metadata": {},
   "source": [
    "### 4. Considerando os dois arrays numpy abaixo, crie uma função que retorna os valores iguais entre os 2 arrays.\n",
    "---"
   ]
  },
  {
   "cell_type": "code",
   "execution_count": 3,
   "metadata": {},
   "outputs": [],
   "source": [
    "array3 = np.array([0, 10, 20, 40, 60])\n",
    "array4 = np.array([10, 30, 40])"
   ]
  },
  {
   "cell_type": "code",
   "execution_count": 4,
   "metadata": {},
   "outputs": [
    {
     "data": {
      "text/plain": [
       "array([10, 40])"
      ]
     },
     "execution_count": 4,
     "metadata": {},
     "output_type": "execute_result"
    }
   ],
   "source": [
    "np.intersect1d(array3, array4)"
   ]
  },
  {
   "cell_type": "markdown",
   "metadata": {},
   "source": [
    "### 5. Dada a matriz abaixo, faça uma função que remova as linhas duplicadas, deixando apenas uma incidência da mesma.\n",
    "---"
   ]
  },
  {
   "cell_type": "code",
   "execution_count": 13,
   "metadata": {},
   "outputs": [
    {
     "name": "stdout",
     "output_type": "stream",
     "text": [
      "[[1 2 3 4]\n",
      " [3 3 3 3]\n",
      " [5 6 7 8]]\n"
     ]
    }
   ],
   "source": [
    "array = np.array([[1,2,3,4], [1,2,3,4], [5,6,7,8],\\\n",
    "        [1,2,3,4], [3,3,3,3], [5,6,7,8]])\n",
    "\n",
    "array_sem_repeticao = np.unique(array, axis=0)\n",
    "\n",
    "print(array_sem_repeticao)"
   ]
  },
  {
   "cell_type": "markdown",
   "metadata": {},
   "source": [
    "### 6. Crie uma função que recebe duas matrizes e retorna um booleano informando se elas são iguais ou não.\n",
    "---"
   ]
  },
  {
   "cell_type": "code",
   "execution_count": 60,
   "metadata": {},
   "outputs": [
    {
     "data": {
      "text/plain": [
       "False"
      ]
     },
     "execution_count": 60,
     "metadata": {},
     "output_type": "execute_result"
    }
   ],
   "source": [
    "def compara(array1, array2):\n",
    "    return np.array_equal(array1, array2)\n",
    "\n",
    "array1 = np.array([[0.1, 2, 3], [1, 3, 4]])\n",
    "array2 = np.array([[0, 2.1, 3], [1, 3, 4]])\n",
    "\n",
    "compara(array1, array2)"
   ]
  },
  {
   "cell_type": "markdown",
   "metadata": {},
   "source": [
    "### 7. Crie uma função que recebe duas matrizes e retorna um booleano informando se elas são iguais ou não, considerando uma determinada tolerância admitida, a ser passada como terceiro parâmetro com valor padrão igual a 0.1.\n",
    "---"
   ]
  },
  {
   "cell_type": "code",
   "execution_count": 56,
   "metadata": {},
   "outputs": [
    {
     "data": {
      "text/plain": [
       "array([[ True,  True,  True],\n",
       "       [ True,  True,  True]])"
      ]
     },
     "execution_count": 56,
     "metadata": {},
     "output_type": "execute_result"
    }
   ],
   "source": [
    "np.isclose(array1, array2, atol=0.1)"
   ]
  }
 ],
 "metadata": {
  "kernelspec": {
   "display_name": "Python 3",
   "language": "python",
   "name": "python3"
  },
  "language_info": {
   "codemirror_mode": {
    "name": "ipython",
    "version": 3
   },
   "file_extension": ".py",
   "mimetype": "text/x-python",
   "name": "python",
   "nbconvert_exporter": "python",
   "pygments_lexer": "ipython3",
   "version": "3.8.5"
  }
 },
 "nbformat": 4,
 "nbformat_minor": 4
}
