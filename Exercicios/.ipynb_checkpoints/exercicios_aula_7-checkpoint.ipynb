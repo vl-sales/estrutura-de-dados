{
 "cells": [
  {
   "cell_type": "markdown",
   "metadata": {},
   "source": [
    "<img src='images/arvore_genealogica.jpg' width = '45%'>"
   ]
  },
  {
   "cell_type": "code",
   "execution_count": 20,
   "metadata": {
    "ExecuteTime": {
     "end_time": "2020-12-05T00:43:50.004345Z",
     "start_time": "2020-12-05T00:43:49.996356Z"
    }
   },
   "outputs": [],
   "source": [
    "class Arvore:\n",
    "    def __init__(self, raiz, esquerda=None, direita=None):\n",
    "        self.raiz = raiz\n",
    "        self.esquerda = esquerda\n",
    "        self.direita = direita\n",
    "    def ProcuraParente(self, nome):\n",
    "        if self.raiz == nome:\n",
    "            return True\n",
    "        if self.esquerda == None and self.direita == None:\n",
    "            return False\n",
    "        return self.esquerda.ProcuraParente(nome) or self.direita.ProcuraParente(nome)\n",
    "    \n",
    "#     def ProcuraAncestral(self, nome):\n",
    "#         if self.direita == None or self.esquerda == None:\n",
    "#             return 'Não possui ancestrais ou não está na arvore'\n",
    "#         if self.raiz == nome:\n",
    "#             return self.esquerda.raiz, self.direita.raiz\n",
    "#         if self.esquerda.raiz == nome:\n",
    "#             return self.esquerda.ProcuraAncestral(nome)\n",
    "#         if self.direita.raiz == nome:\n",
    "#             return self.direita.ProcuraAncestral(nome)\n",
    "        \n",
    "#         return self.direita.ProcuraAncestral(nome) or self.esquerda.ProcuraAncestral(nome)\n",
    "\n",
    "    def ProcuraAncestral(self, nome):\n",
    "        if self.direita == None and self.esquerda == None:\n",
    "            return ''\n",
    "        \n",
    "        if self.direita.raiz == nome or self.esquerda.raiz == nome:\n",
    "            return self.raiz\n",
    "        \n",
    "        return self.direita.ProcuraAncestral(nome) + self.esquerda.ProcuraAncestral(nome)\n"
   ]
  },
  {
   "cell_type": "code",
   "execution_count": 21,
   "metadata": {
    "ExecuteTime": {
     "end_time": "2020-12-05T00:43:50.647403Z",
     "start_time": "2020-12-05T00:43:50.641424Z"
    }
   },
   "outputs": [],
   "source": [
    "familia = Arvore('Melissa',\n",
    "                esquerda = Arvore('Fabiana',\n",
    "                                 esquerda = Arvore('Antonio',\n",
    "                                                  esquerda = Arvore('João'),\n",
    "                                                  direita = Arvore('Julia')),\n",
    "                                 direita = Arvore('Rose',\n",
    "                                                  esquerda = Arvore('André'),\n",
    "                                                  direita = Arvore('Rosana'))),\n",
    "                direita = Arvore('Gustavo'))"
   ]
  },
  {
   "cell_type": "code",
   "execution_count": 23,
   "metadata": {
    "ExecuteTime": {
     "end_time": "2020-12-05T00:44:33.224851Z",
     "start_time": "2020-12-05T00:44:33.218849Z"
    }
   },
   "outputs": [
    {
     "data": {
      "text/plain": [
       "''"
      ]
     },
     "execution_count": 23,
     "metadata": {},
     "output_type": "execute_result"
    }
   ],
   "source": [
    "familia.ProcuraAncestral('Melissa')"
   ]
  },
  {
   "cell_type": "code",
   "execution_count": 693,
   "metadata": {
    "ExecuteTime": {
     "end_time": "2020-12-03T15:04:27.530242Z",
     "start_time": "2020-12-03T15:04:27.514333Z"
    },
    "scrolled": true
   },
   "outputs": [
    {
     "data": {
      "text/plain": [
       "True"
      ]
     },
     "execution_count": 693,
     "metadata": {},
     "output_type": "execute_result"
    }
   ],
   "source": [
    "familia.ProcuraParente('Rose')"
   ]
  },
  {
   "cell_type": "code",
   "execution_count": 26,
   "metadata": {
    "ExecuteTime": {
     "end_time": "2020-12-05T01:04:46.162283Z",
     "start_time": "2020-12-05T01:04:46.158295Z"
    }
   },
   "outputs": [],
   "source": [
    "class Funcionario:\n",
    "    def __init__(self, n_matri, nome, salario, cargo):\n",
    "        self.n_matri = n_matri\n",
    "        self.nome = nome\n",
    "        self.salario = salario\n",
    "        self.cargo = cargo"
   ]
  },
  {
   "cell_type": "code",
   "execution_count": 51,
   "metadata": {
    "ExecuteTime": {
     "end_time": "2020-12-05T01:22:31.078811Z",
     "start_time": "2020-12-05T01:22:31.070800Z"
    }
   },
   "outputs": [],
   "source": [
    "class Arvore:\n",
    "    def __init__(self, raiz, esquerda=None, direita=None):\n",
    "        self.raiz = raiz\n",
    "        self.esquerda = esquerda\n",
    "        self.direita = direita\n",
    "    \n",
    "    def gera_dic(self):\n",
    "        return {self.raiz.nome : self.raiz.salario}\n",
    "    \n",
    "    def funci_salario(self, dic={}):\n",
    "        if self.direita == None and self.esquerda == None:\n",
    "            dic.update(self.gera_dic())\n",
    "            return dic\n",
    "        \n",
    "        dic.update(self.gera_dic())\n",
    "        \n",
    "        if self.direita == None:\n",
    "            return self.esquerda.funci_salario(dic)\n",
    "        if self.esquerda == None:\n",
    "            return self.direita.funci_salario(dic)\n",
    "        \n",
    "        return self.esquerda.funci_salario(dic) and self.direita.funci_salario(dic)"
   ]
  },
  {
   "cell_type": "code",
   "execution_count": 52,
   "metadata": {
    "ExecuteTime": {
     "end_time": "2020-12-05T01:22:31.670185Z",
     "start_time": "2020-12-05T01:22:31.665187Z"
    }
   },
   "outputs": [],
   "source": [
    "hierarquia = Arvore(Funcionario(1,\n",
    "                              nome='Silvio',\n",
    "                              salario=12000,\n",
    "                              cargo='Diretor'),\n",
    "                   esquerda = Arvore(Funcionario(2,\n",
    "                                                nome='Ricardo',\n",
    "                                                salario=6000,\n",
    "                                                cargo='Gerente'),\n",
    "                                    esquerda = Arvore(Funcionario(3,\n",
    "                                                                  nome='João',\n",
    "                                                                  salario=3000,\n",
    "                                                                  cargo='Desenvolvedor')),\n",
    "                                    direita = Arvore(Funcionario(4,\n",
    "                                                                  nome='Eduardo',\n",
    "                                                                  salario=3000,\n",
    "                                                                  cargo='Desenvolvedor'))))"
   ]
  },
  {
   "cell_type": "code",
   "execution_count": 53,
   "metadata": {
    "ExecuteTime": {
     "end_time": "2020-12-05T01:22:32.383626Z",
     "start_time": "2020-12-05T01:22:32.377628Z"
    }
   },
   "outputs": [
    {
     "data": {
      "text/plain": [
       "{'Silvio': 12000, 'Ricardo': 6000, 'João': 3000, 'Eduardo': 3000}"
      ]
     },
     "execution_count": 53,
     "metadata": {},
     "output_type": "execute_result"
    }
   ],
   "source": [
    "hierarquia.funci_salario()"
   ]
  }
 ],
 "metadata": {
  "kernelspec": {
   "display_name": "Python 3",
   "language": "python",
   "name": "python3"
  },
  "language_info": {
   "codemirror_mode": {
    "name": "ipython",
    "version": 3
   },
   "file_extension": ".py",
   "mimetype": "text/x-python",
   "name": "python",
   "nbconvert_exporter": "python",
   "pygments_lexer": "ipython3",
   "version": "3.8.5"
  }
 },
 "nbformat": 4,
 "nbformat_minor": 4
}
