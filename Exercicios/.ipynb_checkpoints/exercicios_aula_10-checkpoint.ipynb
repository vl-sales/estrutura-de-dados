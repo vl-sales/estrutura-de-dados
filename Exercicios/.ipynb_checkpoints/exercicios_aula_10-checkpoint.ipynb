{
 "cells": [
  {
   "cell_type": "code",
   "execution_count": 4,
   "metadata": {
    "ExecuteTime": {
     "end_time": "2020-12-10T12:01:39.918699Z",
     "start_time": "2020-12-10T12:01:39.431678Z"
    }
   },
   "outputs": [],
   "source": [
    "import numpy as np"
   ]
  },
  {
   "cell_type": "code",
   "execution_count": 15,
   "metadata": {
    "ExecuteTime": {
     "end_time": "2020-12-10T12:05:08.103332Z",
     "start_time": "2020-12-10T12:05:08.086825Z"
    }
   },
   "outputs": [],
   "source": [
    "class Grafo:\n",
    "    def __init__(self, V):\n",
    "        self.V = V\n",
    "        self.adj = np.zeros((V, V))\n",
    "        \n",
    "    def __repr__(self):\n",
    "        return str(self.adj)\n",
    "    \n",
    "    def add_edge(self, n1, n2):\n",
    "        self.adj[n1, n2] = 1\n",
    "        self.adj[n2, n1] = 1\n",
    "    \n",
    "    def cria_grafo(self):\n",
    "        for _ in range(self.A):\n",
    "            n1 = input('Informe o primeiro nó a ser conectado: ')\n",
    "            n2 = input('Informe o segundo nó a ser conectado: ')\n",
    "            \n",
    "            add_edge(n1, n2)\n",
    "    \n",
    "    def possuem_conexao(self, n):\n",
    "        return [i for i, v in enumerate(self.adj[n]) if v]\n",
    "    \n",
    "    def DFS(self, n, visitados, conectados):\n",
    "        visitados[n] = True\n",
    "        \n",
    "        conectados.append(n)\n",
    "        \n",
    "        for adjacente in self.possuem_conexao(n):\n",
    "            if not visitados[adjacente]:\n",
    "                self.DFS(adjacente, visitados, conectados)\n",
    "                \n",
    "        return conectados"
   ]
  },
  {
   "cell_type": "code",
   "execution_count": 16,
   "metadata": {
    "ExecuteTime": {
     "end_time": "2020-12-10T12:05:08.781727Z",
     "start_time": "2020-12-10T12:05:08.765181Z"
    }
   },
   "outputs": [],
   "source": [
    "V = 10\n",
    "grafo = Grafo(V)\n",
    "grafo.add_edge(0, 1)\n",
    "grafo.add_edge(0, 2)\n",
    "grafo.add_edge(0, 6)\n",
    "grafo.add_edge(1, 2)\n",
    "grafo.add_edge(2, 6)\n",
    "grafo.add_edge(4, 3)\n",
    "grafo.add_edge(3, 5)\n",
    "grafo.add_edge(7, 8)\n",
    "grafo.add_edge(8, 9)\n",
    "grafo.add_edge(9, 7)"
   ]
  },
  {
   "cell_type": "code",
   "execution_count": 20,
   "metadata": {
    "ExecuteTime": {
     "end_time": "2020-12-10T12:09:57.173539Z",
     "start_time": "2020-12-10T12:09:57.146302Z"
    }
   },
   "outputs": [
    {
     "name": "stdout",
     "output_type": "stream",
     "text": [
      "Este grafo possui 3 componentes, sendo eles:\n",
      "[0, 1, 2, 6]\n",
      "[3, 4, 5]\n",
      "[7, 8, 9]\n"
     ]
    }
   ],
   "source": [
    "visitados = [False] * V\n",
    "conexoes = []\n",
    "\n",
    "for i, v in enumerate(visitados):\n",
    "    if not v:\n",
    "        adjacentes = grafo.DFS(i, visitados, [])\n",
    "    if adjacentes not in conexoes:\n",
    "        conexoes.append(adjacentes)\n",
    "    \n",
    "print(f'Este grafo possui {len(conexoes)} componentes, sendo eles:')\n",
    "for i in conexoes:\n",
    "    print(i)"
   ]
  },
  {
   "cell_type": "markdown",
   "metadata": {},
   "source": [
    "### Questão 2"
   ]
  },
  {
   "cell_type": "code",
   "execution_count": null,
   "metadata": {},
   "outputs": [],
   "source": []
  }
 ],
 "metadata": {
  "kernelspec": {
   "display_name": "Python 3",
   "language": "python",
   "name": "python3"
  },
  "language_info": {
   "codemirror_mode": {
    "name": "ipython",
    "version": 3
   },
   "file_extension": ".py",
   "mimetype": "text/x-python",
   "name": "python",
   "nbconvert_exporter": "python",
   "pygments_lexer": "ipython3",
   "version": "3.8.5"
  }
 },
 "nbformat": 4,
 "nbformat_minor": 4
}
