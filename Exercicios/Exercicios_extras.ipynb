{
 "cells": [
  {
   "cell_type": "markdown",
   "metadata": {},
   "source": [
    "Nicolau já está bastante cansado e sua memória não é mais a mesma. Você, como programador, deverá auxiliar o Papai Noel a gritar a frase \"Feliz Natal\" no idioma correto de cada país de que trenó está sobrevoando.\n",
    "\n",
    "Como você é muito esperto(a), você já criou um pequeno app no seu celular  que irá lhe informar a frase no idioma correto dado o nome do país. Como o trenó é moderno, ele exibe no painel de navegação o nome do país atual."
   ]
  },
  {
   "cell_type": "code",
   "execution_count": 2,
   "metadata": {},
   "outputs": [],
   "source": [
    "idiomas = {'brasil' : 'Feliz Natal!', 'alemanha': 'Frohliche Weihnachten!', 'austria': 'Frohe Weihnacht!',\n",
    "          'coreia': 'Chuk Sung Tan!', 'espanha': 'Feliz Navidad!', 'grecia': 'Kala Christougena!',\n",
    "           'estados-unidos': 'Merry Christmas!', 'inglaterra': 'Merry Christmas!', 'australia': 'Merry Christmas!',\n",
    "           'portugal': 'Feliz Natal!', 'suecia': 'God Jul!', 'turquia': 'Mutlu Noeller', 'argentina': 'Feliz Navidad!',\n",
    "           'chile': 'Feliz Navidad!', 'mexico': 'Feliz Navidad!', 'antardida': 'Merry Christmas!', 'canada': 'Merry Christmas!',\n",
    "           'irlanda': 'Nollaig Shona Dhuit!', 'belgica': 'Zalig Kerstfeest!', 'italia': 'Buon Natale!', 'libia': 'Buon Natale!',\n",
    "           'siria': 'Milad Mubarak!', 'marrocos': 'Milad Mubarak!', 'japao': 'Merii Kurisumasu!'}"
   ]
  },
  {
   "cell_type": "code",
   "execution_count": 3,
   "metadata": {},
   "outputs": [],
   "source": [
    "def mostra_idioma():\n",
    "    pais = input('Informe o pais: ').lower()\n",
    "\n",
    "    if pais not in idiomas:\n",
    "        print('NOT FOUND')\n",
    "    else:\n",
    "        print(idiomas[pais])"
   ]
  },
  {
   "cell_type": "code",
   "execution_count": 4,
   "metadata": {},
   "outputs": [
    {
     "name": "stdout",
     "output_type": "stream",
     "text": [
      "Informe o pais: coreia\n",
      "Chuk Sung Tan!\n"
     ]
    }
   ],
   "source": [
    "mostra_idioma()"
   ]
  },
  {
   "cell_type": "code",
   "execution_count": null,
   "metadata": {},
   "outputs": [],
   "source": []
  },
  {
   "cell_type": "markdown",
   "metadata": {},
   "source": [
    "## Exercício 2 - Compondo Jingles"
   ]
  },
  {
   "cell_type": "code",
   "execution_count": 1,
   "metadata": {},
   "outputs": [],
   "source": [
    "\n",
    "\n"
   ]
  },
  {
   "cell_type": "code",
   "execution_count": 4,
   "metadata": {},
   "outputs": [
    {
     "name": "stdout",
     "output_type": "stream",
     "text": [
      "Corretas: 4\n",
      "Erradas: ['HW']\n"
     ]
    }
   ],
   "source": [
    "tempo_notas = {'W': 1, 'H': 1/2, 'Q': 1/4, 'E': 1/8, 'S': 1/16, 'T': 1/32, 'X': 1/64}\n",
    "\n",
    "notas = '/HH/QQQQ/XXXTXTEQH/W/HW/'\n",
    "notas = [x for x in notas.split('/') if x != '']\n",
    "        \n",
    "corretas = 0\n",
    "erradas = []\n",
    "\n",
    "for compasso in notas:\n",
    "    t = 0\n",
    "    for nota in compasso:\n",
    "        t += tempo_notas[nota]\n",
    "    \n",
    "    if t == 1:\n",
    "        corretas += 1\n",
    "    else:\n",
    "        erradas.append(compasso)\n",
    "\n",
    "print(f'Corretas: {corretas}\\nErradas: {erradas}')"
   ]
  },
  {
   "cell_type": "code",
   "execution_count": null,
   "metadata": {},
   "outputs": [],
   "source": []
  },
  {
   "cell_type": "code",
   "execution_count": 8,
   "metadata": {},
   "outputs": [
    {
     "name": "stdout",
     "output_type": "stream",
     "text": [
      "Corretas: 4\n",
      "Erradas: ['HW']\n"
     ]
    }
   ],
   "source": [
    "#Resolução do professor:\n",
    "\n",
    "tempo_notas = {'W': 1, 'H': 1/2, 'Q': 1/4, 'E': 1/8, 'S': 1/16, 'T': 1/32, 'X': 1/64}\n",
    "\n",
    "jingle = '/HH/QQQQ/XXXTXTEQH/W/HW/'\n",
    "compassos = jingle.split('/')[1:-1]\n",
    "\n",
    "corretas = 0\n",
    "erradas = []\n",
    "\n",
    "for compasso in notas:\n",
    "    t = 0\n",
    "    for nota in compasso:\n",
    "        t += tempo_notas[nota]    \n",
    "    \n",
    "    if t == 1:\n",
    "        corretas += 1\n",
    "    else:\n",
    "        erradas.append(compasso)\n",
    "\n",
    "print(f'Corretas: {corretas}\\nErradas: {erradas}')"
   ]
  },
  {
   "cell_type": "code",
   "execution_count": null,
   "metadata": {},
   "outputs": [],
   "source": []
  },
  {
   "cell_type": "markdown",
   "metadata": {},
   "source": [
    "## Exercício 3 - Amigo Secreto"
   ]
  },
  {
   "cell_type": "code",
   "execution_count": 5,
   "metadata": {},
   "outputs": [],
   "source": [
    "lista_presentes = {'iara': ['mochila', 'estojo', 'lapis'],\n",
    "                   'adelar': ['sapato ', 'camisa', 'carteira'],\n",
    "                   'jessica': ['agenda', 'bolsa', 'brincos'],\n",
    "                   'jocelina': ['xicara', 'meias', 'perfume'],\n",
    "                   'elaine': ['sandalia', 'sapatilha', 'camiseta']}"
   ]
  },
  {
   "cell_type": "code",
   "execution_count": 8,
   "metadata": {},
   "outputs": [
    {
     "name": "stdout",
     "output_type": "stream",
     "text": [
      "Digite o nome: iara\n",
      "Digite o presente: mochila\n",
      "Acertou o presente!\n"
     ]
    }
   ],
   "source": [
    "nome = input('Digite o nome: ').lower()\n",
    "presente = input('Digite o presente: ').lower()\n",
    "\n",
    "if presente in lista_presentes[nome]:\n",
    "    print('Acertou o presente!')\n",
    "else:\n",
    "    print('Errou o presente!')"
   ]
  }
 ],
 "metadata": {
  "kernelspec": {
   "display_name": "Python 3",
   "language": "python",
   "name": "python3"
  },
  "language_info": {
   "codemirror_mode": {
    "name": "ipython",
    "version": 3
   },
   "file_extension": ".py",
   "mimetype": "text/x-python",
   "name": "python",
   "nbconvert_exporter": "python",
   "pygments_lexer": "ipython3",
   "version": "3.8.5"
  }
 },
 "nbformat": 4,
 "nbformat_minor": 4
}
