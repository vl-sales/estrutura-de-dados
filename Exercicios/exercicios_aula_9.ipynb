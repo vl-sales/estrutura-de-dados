{
 "cells": [
  {
   "cell_type": "markdown",
   "metadata": {},
   "source": [
    "### 1. Implemente o grafo ilustrado pela figura abaixo, utilizando a representação baseada em uma matriz de adjacências. Em seguida, exiba a matriz que representa o grafo."
   ]
  },
  {
   "cell_type": "code",
   "execution_count": 5,
   "metadata": {
    "ExecuteTime": {
     "end_time": "2020-12-04T15:01:41.014476Z",
     "start_time": "2020-12-04T15:01:40.762468Z"
    }
   },
   "outputs": [],
   "source": [
    "import numpy as np"
   ]
  },
  {
   "cell_type": "code",
   "execution_count": 76,
   "metadata": {
    "ExecuteTime": {
     "end_time": "2020-12-04T17:43:15.528891Z",
     "start_time": "2020-12-04T17:43:15.512981Z"
    }
   },
   "outputs": [],
   "source": [
    "class Grafo:\n",
    "    def __init__(self, N):\n",
    "        self.N = N\n",
    "        self.adj = np.zeros((N, N))\n",
    "    \n",
    "    def __repr__(self):\n",
    "        return str(self.adj)\n",
    "    \n",
    "    def add_arrow(self, n1, n2, peso=1):\n",
    "        self.adj[n1, n2] = peso\n",
    "    \n",
    "    def add_edge(self, n1, n2, peso=1):\n",
    "        self.adj[n1, n2] = peso\n",
    "        self.adj[n2, n1] = peso\n",
    "    def retorna_adjacentes(self, n):\n",
    "        return [i for i, v in enumerate(self.adj[n]) if v != 0]"
   ]
  },
  {
   "cell_type": "code",
   "execution_count": 77,
   "metadata": {
    "ExecuteTime": {
     "end_time": "2020-12-04T17:43:16.190974Z",
     "start_time": "2020-12-04T17:43:16.184466Z"
    }
   },
   "outputs": [],
   "source": [
    "grafo = Grafo(7)"
   ]
  },
  {
   "cell_type": "code",
   "execution_count": 78,
   "metadata": {
    "ExecuteTime": {
     "end_time": "2020-12-04T17:43:16.819894Z",
     "start_time": "2020-12-04T17:43:16.811931Z"
    }
   },
   "outputs": [],
   "source": [
    "grafo.add_edge(1, 3)\n",
    "grafo.add_edge(2, 3)\n",
    "grafo.add_edge(2, 5)\n",
    "grafo.add_edge(3, 4)\n",
    "grafo.add_edge(4, 5)\n",
    "grafo.add_edge(4, 6)\n",
    "grafo.add_edge(5, 5)"
   ]
  },
  {
   "cell_type": "code",
   "execution_count": 79,
   "metadata": {
    "ExecuteTime": {
     "end_time": "2020-12-04T17:43:17.527228Z",
     "start_time": "2020-12-04T17:43:17.501787Z"
    }
   },
   "outputs": [
    {
     "data": {
      "text/plain": [
       "[[0. 0. 0. 0. 0. 0. 0.]\n",
       " [0. 0. 0. 1. 0. 0. 0.]\n",
       " [0. 0. 0. 1. 0. 1. 0.]\n",
       " [0. 1. 1. 0. 1. 0. 0.]\n",
       " [0. 0. 0. 1. 0. 1. 1.]\n",
       " [0. 0. 1. 0. 1. 1. 0.]\n",
       " [0. 0. 0. 0. 1. 0. 0.]]"
      ]
     },
     "execution_count": 79,
     "metadata": {},
     "output_type": "execute_result"
    }
   ],
   "source": [
    "grafo"
   ]
  },
  {
   "cell_type": "code",
   "execution_count": 80,
   "metadata": {
    "ExecuteTime": {
     "end_time": "2020-12-04T17:43:18.378724Z",
     "start_time": "2020-12-04T17:43:18.371735Z"
    }
   },
   "outputs": [
    {
     "data": {
      "text/plain": [
       "[2, 4, 5]"
      ]
     },
     "execution_count": 80,
     "metadata": {},
     "output_type": "execute_result"
    }
   ],
   "source": [
    "grafo.retorna_adjacentes(5)"
   ]
  },
  {
   "cell_type": "raw",
   "metadata": {},
   "source": []
  },
  {
   "cell_type": "markdown",
   "metadata": {},
   "source": [
    "### 2. Implemente o grafo ilustrado pela figura abaixo, utilizando a representação baseada em uma lista de adjacências. Em seguida, observe a lista de adjacências que representa o grafo."
   ]
  },
  {
   "cell_type": "code",
   "execution_count": 92,
   "metadata": {
    "ExecuteTime": {
     "end_time": "2020-12-04T17:50:46.835767Z",
     "start_time": "2020-12-04T17:50:46.819764Z"
    }
   },
   "outputs": [],
   "source": [
    "class GrafoLista:\n",
    "    def __init__(self, N):\n",
    "        self.N = N\n",
    "        self.adj = [[] for _ in range(N)]\n",
    "    \n",
    "    def __repr__(self):\n",
    "        l = [str(i) for i in self.adj]\n",
    "        return '\\n'.join(l)\n",
    "    \n",
    "    def add_arrow(self, n1, n2, peso=1):\n",
    "        self.adj[n1].append((n2, peso))\n",
    "    \n",
    "    def add_edge(self, n1, n2, peso=1):\n",
    "        self.add_arrow(n1, n2, peso)\n",
    "        self.add_arrow(n2, n1, peso)"
   ]
  },
  {
   "cell_type": "code",
   "execution_count": 93,
   "metadata": {
    "ExecuteTime": {
     "end_time": "2020-12-04T17:50:50.645007Z",
     "start_time": "2020-12-04T17:50:50.638831Z"
    }
   },
   "outputs": [],
   "source": [
    "grafo2 = GrafoLista(5)"
   ]
  },
  {
   "cell_type": "code",
   "execution_count": 83,
   "metadata": {
    "ExecuteTime": {
     "end_time": "2020-12-04T17:43:21.409775Z",
     "start_time": "2020-12-04T17:43:21.402383Z"
    }
   },
   "outputs": [],
   "source": [
    "grafo2.add_arrow(1, 2)\n",
    "grafo2.add_arrow(1, 3)\n",
    "grafo2.add_arrow(1, 4)\n",
    "grafo2.add_edge(3, 2)\n",
    "grafo2.add_arrow(4, 4)\n",
    "grafo2.add_arrow(5, 2)"
   ]
  },
  {
   "cell_type": "code",
   "execution_count": 84,
   "metadata": {
    "ExecuteTime": {
     "end_time": "2020-12-04T17:43:22.245609Z",
     "start_time": "2020-12-04T17:43:22.237889Z"
    }
   },
   "outputs": [
    {
     "data": {
      "text/plain": [
       "[(2, 1), (3, 1), (4, 1)]\n",
       "[(3, 1)]\n",
       "[(2, 1)]\n",
       "[(4, 1)]\n",
       "[(2, 1)]"
      ]
     },
     "execution_count": 84,
     "metadata": {},
     "output_type": "execute_result"
    }
   ],
   "source": [
    "grafo2"
   ]
  },
  {
   "cell_type": "code",
   "execution_count": 96,
   "metadata": {
    "ExecuteTime": {
     "end_time": "2020-12-04T17:51:51.739567Z",
     "start_time": "2020-12-04T17:51:51.732168Z"
    }
   },
   "outputs": [],
   "source": [
    "grafo3 = Grafo(5)"
   ]
  },
  {
   "cell_type": "code",
   "execution_count": 97,
   "metadata": {
    "ExecuteTime": {
     "end_time": "2020-12-04T17:51:52.650166Z",
     "start_time": "2020-12-04T17:51:52.642281Z"
    }
   },
   "outputs": [],
   "source": [
    "grafo3.add_edge(0, 1, 3)\n",
    "grafo3.add_edge(0, 3, 7)\n",
    "grafo3.add_edge(0, 4, 8)\n",
    "grafo3.add_edge(1, 2)\n",
    "grafo3.add_edge(1, 3, 4)\n",
    "grafo3.add_edge(2, 3, 2)\n",
    "grafo3.add_edge(3, 4, 3)"
   ]
  },
  {
   "cell_type": "code",
   "execution_count": 98,
   "metadata": {
    "ExecuteTime": {
     "end_time": "2020-12-04T17:51:53.341273Z",
     "start_time": "2020-12-04T17:51:53.325261Z"
    }
   },
   "outputs": [
    {
     "data": {
      "text/plain": [
       "[[0. 3. 0. 7. 8.]\n",
       " [3. 0. 1. 4. 0.]\n",
       " [0. 1. 0. 2. 0.]\n",
       " [7. 4. 2. 0. 3.]\n",
       " [8. 0. 0. 3. 0.]]"
      ]
     },
     "execution_count": 98,
     "metadata": {},
     "output_type": "execute_result"
    }
   ],
   "source": [
    "grafo3"
   ]
  },
  {
   "cell_type": "code",
   "execution_count": 99,
   "metadata": {
    "ExecuteTime": {
     "end_time": "2020-12-04T17:51:55.118857Z",
     "start_time": "2020-12-04T17:51:55.110553Z"
    }
   },
   "outputs": [],
   "source": [
    "grafo4 = GrafoLista(5)"
   ]
  },
  {
   "cell_type": "code",
   "execution_count": 102,
   "metadata": {
    "ExecuteTime": {
     "end_time": "2020-12-04T18:23:53.158781Z",
     "start_time": "2020-12-04T18:23:53.150637Z"
    }
   },
   "outputs": [
    {
     "data": {
      "text/plain": [
       "[(1, 3), (3, 7), (4, 8)]\n",
       "[(0, 3), (2, 1), (3, 4)]\n",
       "[(1, 1), (3, 2)]\n",
       "[(0, 7), (1, 4), (2, 2), (4, 3)]\n",
       "[(0, 8), (3, 3)]"
      ]
     },
     "execution_count": 102,
     "metadata": {},
     "output_type": "execute_result"
    }
   ],
   "source": [
    "grafo4"
   ]
  },
  {
   "cell_type": "code",
   "execution_count": 204,
   "metadata": {
    "ExecuteTime": {
     "end_time": "2020-12-04T20:40:39.979385Z",
     "start_time": "2020-12-04T20:40:39.972383Z"
    }
   },
   "outputs": [],
   "source": [
    "class GrafoBrasil:\n",
    "    def __init__(self, N):\n",
    "        self.N = N\n",
    "        self.adj = dict()\n",
    "    \n",
    "    def __repr__(self):\n",
    "        return str(self.adj)\n",
    "\n",
    "    def add_edge(self, n1, n2):\n",
    "        if not n1 in self.adj:\n",
    "            self.adj.update({n1:[n2]})\n",
    "        if not n2 in self.adj:\n",
    "            self.adj.update({n2:[n1]})\n",
    "        if n1 in self.adj and not n2 in self.adj[n1]:\n",
    "            self.adj[n1].append(n2)\n",
    "        if n2 in self.adj and not n1 in self.adj[n2]:\n",
    "            self.adj[n2].append(n1)"
   ]
  },
  {
   "cell_type": "code",
   "execution_count": 65,
   "metadata": {
    "ExecuteTime": {
     "end_time": "2020-12-06T18:30:52.754322Z",
     "start_time": "2020-12-06T18:30:52.731102Z"
    }
   },
   "outputs": [],
   "source": [
    "class GrafoBrasil:\n",
    "    def __init__(self, N, dic):\n",
    "        self.N = N\n",
    "        self.adj = [[] for _ in range(N)]\n",
    "        self.dic = dic\n",
    "    \n",
    "    def __repr__(self):\n",
    "        return '\\n'.join([str(i) for i in self.adj])\n",
    "    \n",
    "    def index_cidades(self):\n",
    "        print(self.dic)\n",
    "    def add_edge(self, n1, n2):\n",
    "        self.adj[self.dic[n1]].append(n2)\n",
    "        self.adj[self.dic[n2]].append(n1)"
   ]
  },
  {
   "cell_type": "code",
   "execution_count": 66,
   "metadata": {
    "ExecuteTime": {
     "end_time": "2020-12-06T18:30:53.624475Z",
     "start_time": "2020-12-06T18:30:53.619276Z"
    }
   },
   "outputs": [],
   "source": [
    "dic = {'Rio Grande do Sul' : 0, 'Santa Catarina' : 1, 'Paraná' : 2, 'São Paulo' : 3, 'Minas Gerais' : 4,\n",
    "      'Rio de Janeiro' : 5, 'Espirito Santo' : 6, 'Mato Grosso do Sul': 7, 'Mato Grosso' : 8, 'Goias' : 9,\n",
    "      'Bahia' : 10, 'Sergipe' : 11, 'Alagoas' : 12, 'Pernambuco' : 13, 'Paraíba' : 14,\n",
    "      'Rio Grande do Norte' : 15, 'Ceará' : 16, 'Piauí' : 17, 'Maranhão' : 18, 'Tocantins' : 19,\n",
    "      'Pará' : 20, 'Amapá' : 21, 'Amazonas' : 22, 'Roraima' : 23, 'Acre' : 24, 'Rondônia' : 25}\n",
    "\n",
    "brasil2 = GrafoBrasil(26, dic)"
   ]
  },
  {
   "cell_type": "code",
   "execution_count": 67,
   "metadata": {
    "ExecuteTime": {
     "end_time": "2020-12-06T18:30:56.143585Z",
     "start_time": "2020-12-06T18:30:56.127582Z"
    }
   },
   "outputs": [],
   "source": [
    "brasil2.add_edge('Rio Grande do Sul', 'Santa Catarina')\n",
    "brasil2.add_edge('Santa Catarina', 'Paraná')\n",
    "brasil2.add_edge('Paraná', 'Mato Grosso do Sul')\n",
    "brasil2.add_edge('Paraná', 'São Paulo')\n",
    "brasil2.add_edge('São Paulo', 'Mato Grosso do Sul')\n",
    "brasil2.add_edge('São Paulo', 'Minas Gerais') \n",
    "brasil2.add_edge('São Paulo', 'Rio de Janeiro')\n",
    "brasil2.add_edge('Minas Gerais', 'Rio de Janeiro')\n",
    "brasil2.add_edge('Minas Gerais', 'Espirito Santo')\n",
    "brasil2.add_edge('Minas Gerais', 'Goias')\n",
    "brasil2.add_edge('Rio de Janeiro', 'Espirito Santo')\n",
    "brasil2.add_edge('Espirito Santo', 'Bahia')\n",
    "brasil2.add_edge('Mato Grosso do Sul', 'Goias')\n",
    "brasil2.add_edge('Mato Grosso do Sul', 'Mato Grosso')\n",
    "brasil2.add_edge('Goias', 'Mato Grosso')\n",
    "brasil2.add_edge('Goias', 'Tocantins')\n",
    "brasil2.add_edge('Goias', 'Bahia')\n",
    "brasil2.add_edge('Mato Grosso', 'Tocantins')\n",
    "brasil2.add_edge('Mato Grosso', 'Pará')\n",
    "brasil2.add_edge('Mato Grosso', 'Rondônia')\n",
    "brasil2.add_edge('Mato Grosso', 'Amazonas')\n",
    "brasil2.add_edge('Bahia', 'Sergipe')\n",
    "brasil2.add_edge('Bahia', 'Piauí')\n",
    "brasil2.add_edge('Bahia', 'Pernambuco')\n",
    "brasil2.add_edge('Bahia', 'Alagoas')\n",
    "brasil2.add_edge('Sergipe', 'Alagoas')\n",
    "brasil2.add_edge('Alagoas', 'Pernambuco')\n",
    "brasil2.add_edge('Pernambuco', 'Piauí')\n",
    "brasil2.add_edge('Pernambuco', 'Paraíba')\n",
    "brasil2.add_edge('Paraíba', 'Rio Grande do Norte')\n",
    "brasil2.add_edge('Paraíba', 'Ceará')\n",
    "brasil2.add_edge('Rio Grande do Norte', 'Ceará')\n",
    "brasil2.add_edge('Ceará', 'Piauí')\n",
    "brasil2.add_edge('Piauí', 'Maranhão')\n",
    "brasil2.add_edge('Piauí', 'Tocantins')\n",
    "brasil2.add_edge('Maranhão', 'Pará')\n",
    "brasil2.add_edge('Maranhão', 'Tocantins')\n",
    "brasil2.add_edge('Tocantins', 'Pará')\n",
    "brasil2.add_edge('Pará', 'Amapá')\n",
    "brasil2.add_edge('Pará', 'Amazonas')\n",
    "brasil2.add_edge('Amazonas', 'Roraima')\n",
    "brasil2.add_edge('Amazonas', 'Acre')\n",
    "brasil2.add_edge('Amazonas', 'Rondônia')"
   ]
  },
  {
   "cell_type": "code",
   "execution_count": 69,
   "metadata": {
    "ExecuteTime": {
     "end_time": "2020-12-06T18:31:19.558338Z",
     "start_time": "2020-12-06T18:31:19.541936Z"
    }
   },
   "outputs": [
    {
     "name": "stdout",
     "output_type": "stream",
     "text": [
      "{'Rio Grande do Sul': 0, 'Santa Catarina': 1, 'Paraná': 2, 'São Paulo': 3, 'Minas Gerais': 4, 'Rio de Janeiro': 5, 'Espirito Santo': 6, 'Mato Grosso do Sul': 7, 'Mato Grosso': 8, 'Goias': 9, 'Bahia': 10, 'Sergipe': 11, 'Alagoas': 12, 'Pernambuco': 13, 'Paraíba': 14, 'Rio Grande do Norte': 15, 'Ceará': 16, 'Piauí': 17, 'Maranhão': 18, 'Tocantins': 19, 'Pará': 20, 'Amapá': 21, 'Amazonas': 22, 'Roraima': 23, 'Acre': 24, 'Rondônia': 25}\n"
     ]
    },
    {
     "data": {
      "text/plain": [
       "['Santa Catarina']\n",
       "['Rio Grande do Sul', 'Paraná']\n",
       "['Santa Catarina', 'Mato Grosso do Sul', 'São Paulo']\n",
       "['Paraná', 'Mato Grosso do Sul', 'Minas Gerais', 'Rio de Janeiro']\n",
       "['São Paulo', 'Rio de Janeiro', 'Espirito Santo', 'Goias']\n",
       "['São Paulo', 'Minas Gerais', 'Espirito Santo']\n",
       "['Minas Gerais', 'Rio de Janeiro', 'Bahia']\n",
       "['Paraná', 'São Paulo', 'Goias', 'Mato Grosso']\n",
       "['Mato Grosso do Sul', 'Goias', 'Tocantins', 'Pará', 'Rondônia', 'Amazonas']\n",
       "['Minas Gerais', 'Mato Grosso do Sul', 'Mato Grosso', 'Tocantins', 'Bahia']\n",
       "['Espirito Santo', 'Goias', 'Sergipe', 'Piauí', 'Pernambuco', 'Alagoas']\n",
       "['Bahia', 'Alagoas']\n",
       "['Bahia', 'Sergipe', 'Pernambuco']\n",
       "['Bahia', 'Alagoas', 'Piauí', 'Paraíba']\n",
       "['Pernambuco', 'Rio Grande do Norte', 'Ceará']\n",
       "['Paraíba', 'Ceará']\n",
       "['Paraíba', 'Rio Grande do Norte', 'Piauí']\n",
       "['Bahia', 'Pernambuco', 'Ceará', 'Maranhão', 'Tocantins']\n",
       "['Piauí', 'Pará', 'Tocantins']\n",
       "['Goias', 'Mato Grosso', 'Piauí', 'Maranhão', 'Pará']\n",
       "['Mato Grosso', 'Maranhão', 'Tocantins', 'Amapá', 'Amazonas']\n",
       "['Pará']\n",
       "['Mato Grosso', 'Pará', 'Roraima', 'Acre', 'Rondônia']\n",
       "['Amazonas']\n",
       "['Amazonas']\n",
       "['Mato Grosso', 'Amazonas']"
      ]
     },
     "execution_count": 69,
     "metadata": {},
     "output_type": "execute_result"
    }
   ],
   "source": [
    "brasil2.index_cidades()\n",
    "brasil2"
   ]
  },
  {
   "cell_type": "code",
   "execution_count": null,
   "metadata": {},
   "outputs": [],
   "source": []
  },
  {
   "cell_type": "code",
   "execution_count": 72,
   "metadata": {
    "ExecuteTime": {
     "end_time": "2020-12-06T19:59:10.287441Z",
     "start_time": "2020-12-06T19:59:10.279332Z"
    }
   },
   "outputs": [],
   "source": [
    "class Rotas:\n",
    "    def __init__(self, N, M):\n",
    "        self.N = N\n",
    "        self.M = M\n",
    "        self.adj = [[] for _ in range(N)]\n",
    "    \n",
    "    def __repr__(self):\n",
    "        return '\\n'.join([str(i) for i in self.adj]) \n",
    "    \n",
    "    def add_edge(self, n1, n2, peso):\n",
    "        self.adj[n1].append((n2, peso))\n",
    "        self.adj[n2].append((n1, peso))\n",
    "        "
   ]
  },
  {
   "cell_type": "code",
   "execution_count": 78,
   "metadata": {
    "ExecuteTime": {
     "end_time": "2020-12-06T19:59:50.007848Z",
     "start_time": "2020-12-06T19:59:49.999402Z"
    }
   },
   "outputs": [],
   "source": [
    "rotas = Rotas(3, 2)\n",
    "\n",
    "rotas.add_edge(0, 1, 10)\n",
    "rotas.add_edge(1, 2, 23)"
   ]
  },
  {
   "cell_type": "code",
   "execution_count": 79,
   "metadata": {
    "ExecuteTime": {
     "end_time": "2020-12-06T19:59:50.664924Z",
     "start_time": "2020-12-06T19:59:50.657175Z"
    }
   },
   "outputs": [
    {
     "data": {
      "text/plain": [
       "[(1, 10)]\n",
       "[(0, 10), (2, 23)]\n",
       "[(1, 23)]"
      ]
     },
     "execution_count": 79,
     "metadata": {},
     "output_type": "execute_result"
    }
   ],
   "source": [
    "rotas"
   ]
  },
  {
   "cell_type": "raw",
   "metadata": {},
   "source": []
  }
 ],
 "metadata": {
  "kernelspec": {
   "display_name": "Python 3",
   "language": "python",
   "name": "python3"
  },
  "language_info": {
   "codemirror_mode": {
    "name": "ipython",
    "version": 3
   },
   "file_extension": ".py",
   "mimetype": "text/x-python",
   "name": "python",
   "nbconvert_exporter": "python",
   "pygments_lexer": "ipython3",
   "version": "3.8.5"
  }
 },
 "nbformat": 4,
 "nbformat_minor": 4
}
