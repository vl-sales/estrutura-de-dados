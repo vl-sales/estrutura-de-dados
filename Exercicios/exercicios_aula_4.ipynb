{
 "cells": [
  {
   "cell_type": "markdown",
   "metadata": {},
   "source": [
    "### Crie uma lista do Python que contenha 10 inteiros aleatórios (entre 0 e 100). Em seguida, a partir da lista criada anteriormente, crie um array do Numpy, utilizando a função array.\n",
    "---"
   ]
  },
  {
   "cell_type": "code",
   "execution_count": 2,
   "metadata": {},
   "outputs": [],
   "source": [
    "import random\n",
    "import numpy as np"
   ]
  },
  {
   "cell_type": "code",
   "execution_count": 3,
   "metadata": {},
   "outputs": [
    {
     "name": "stdout",
     "output_type": "stream",
     "text": [
      "[44 67 59 70 31  5 75 86 91 32]\n"
     ]
    }
   ],
   "source": [
    "lista = [random.randint(1, 101) for _ in range(10)]\n",
    "array = np.array(lista)\n",
    "\n",
    "print(array)"
   ]
  },
  {
   "cell_type": "markdown",
   "metadata": {},
   "source": [
    "### Crie um array com 10 elementos (iniciando em zero), em que os elementos tenham um intervalo de 3 unidades entre si.\n",
    "---"
   ]
  },
  {
   "cell_type": "code",
   "execution_count": 4,
   "metadata": {},
   "outputs": [
    {
     "data": {
      "text/plain": [
       "array([ 0,  3,  6,  9, 12, 15, 18, 21, 24, 27])"
      ]
     },
     "execution_count": 4,
     "metadata": {},
     "output_type": "execute_result"
    }
   ],
   "source": [
    "array = np.arange(0, 30,3)\n",
    "array"
   ]
  },
  {
   "cell_type": "markdown",
   "metadata": {},
   "source": [
    "### Crie um array com 40 elementos entre 0 e π.\n",
    "---"
   ]
  },
  {
   "cell_type": "code",
   "execution_count": 9,
   "metadata": {},
   "outputs": [
    {
     "data": {
      "text/plain": [
       "array([0.        , 0.08055366, 0.16110732, 0.24166097, 0.32221463,\n",
       "       0.40276829, 0.48332195, 0.5638756 , 0.64442926, 0.72498292,\n",
       "       0.80553658, 0.88609024, 0.96664389, 1.04719755, 1.12775121,\n",
       "       1.20830487, 1.28885852, 1.36941218, 1.44996584, 1.5305195 ,\n",
       "       1.61107316, 1.69162681, 1.77218047, 1.85273413, 1.93328779,\n",
       "       2.01384144, 2.0943951 , 2.17494876, 2.25550242, 2.33605608,\n",
       "       2.41660973, 2.49716339, 2.57771705, 2.65827071, 2.73882436,\n",
       "       2.81937802, 2.89993168, 2.98048534, 3.061039  , 3.14159265])"
      ]
     },
     "execution_count": 9,
     "metadata": {},
     "output_type": "execute_result"
    }
   ],
   "source": [
    "array = np.linspace(0, np.pi, 40)\n",
    "array"
   ]
  },
  {
   "cell_type": "markdown",
   "metadata": {},
   "source": [
    "### Crie um array com 40 elementos, todos iguais a 6.\n",
    "---"
   ]
  },
  {
   "cell_type": "code",
   "execution_count": 10,
   "metadata": {},
   "outputs": [
    {
     "data": {
      "text/plain": [
       "array([6, 6, 6, 6, 6, 6, 6, 6, 6, 6, 6, 6, 6, 6, 6, 6, 6, 6, 6, 6, 6, 6,\n",
       "       6, 6, 6, 6, 6, 6, 6, 6, 6, 6, 6, 6, 6, 6, 6, 6, 6, 6])"
      ]
     },
     "execution_count": 10,
     "metadata": {},
     "output_type": "execute_result"
    }
   ],
   "source": [
    "np.array([6 for _ in range(40)]) # _ omite a variável para não alocar espaço de memoria para a variavel"
   ]
  },
  {
   "cell_type": "code",
   "execution_count": 11,
   "metadata": {},
   "outputs": [],
   "source": [
    "array2 = np.linspace(6, 6, 40)"
   ]
  },
  {
   "cell_type": "markdown",
   "metadata": {},
   "source": [
    "### Divida o array obtido na Questão 4 por 3 e, em seguida, multiplique-o pelo array obtido na Questão 3.\n",
    "---"
   ]
  },
  {
   "cell_type": "code",
   "execution_count": 12,
   "metadata": {},
   "outputs": [
    {
     "data": {
      "text/plain": [
       "array([0.        , 0.16110732, 0.32221463, 0.48332195, 0.64442926,\n",
       "       0.80553658, 0.96664389, 1.12775121, 1.28885852, 1.44996584,\n",
       "       1.61107316, 1.77218047, 1.93328779, 2.0943951 , 2.25550242,\n",
       "       2.41660973, 2.57771705, 2.73882436, 2.89993168, 3.061039  ,\n",
       "       3.22214631, 3.38325363, 3.54436094, 3.70546826, 3.86657557,\n",
       "       4.02768289, 4.1887902 , 4.34989752, 4.51100484, 4.67211215,\n",
       "       4.83321947, 4.99432678, 5.1554341 , 5.31654141, 5.47764873,\n",
       "       5.63875604, 5.79986336, 5.96097068, 6.12207799, 6.28318531])"
      ]
     },
     "execution_count": 12,
     "metadata": {},
     "output_type": "execute_result"
    }
   ],
   "source": [
    "operacao = (array2 / 3) * array\n",
    "\n",
    "operacao"
   ]
  },
  {
   "cell_type": "markdown",
   "metadata": {},
   "source": [
    "### Crie um array com 40 números aleatórios, distribuídos uniformemente, entre [0, 5). Em seguida, some-o com o array obtido na Questão 5.\n",
    "OBS.: Utilize a seed 17 para a criação do array aleatório.\n",
    "\n",
    "----"
   ]
  },
  {
   "cell_type": "code",
   "execution_count": 13,
   "metadata": {},
   "outputs": [
    {
     "data": {
      "text/plain": [
       "array([ 1.47332501,  2.81404109,  1.27981857,  0.82282374,  4.57935656,\n",
       "        4.08720419,  4.15424837,  4.00576568,  1.48417311,  3.23903386,\n",
       "        6.33948909,  2.07240387,  6.2534983 ,  6.48084773,  2.51147075,\n",
       "        5.67870281,  5.33647389,  5.72639063,  5.3175748 ,  4.4759798 ,\n",
       "        4.7107749 ,  6.19079815,  5.52459812,  7.64897181,  5.9589975 ,\n",
       "        4.74720249,  4.94332368,  4.62610427,  8.1011908 ,  6.13369892,\n",
       "        5.82708883,  9.15114639,  7.9953897 ,  5.72824016,  8.2026416 ,\n",
       "        6.43354977,  9.18367529,  6.553332  ,  8.34705832, 10.72309748])"
      ]
     },
     "execution_count": 13,
     "metadata": {},
     "output_type": "execute_result"
    }
   ],
   "source": [
    "np.random.seed(17)\n",
    "\n",
    "array3 = np.random.uniform(0, 5, 40)\n",
    "\n",
    "soma = operacao + array3\n",
    "\n",
    "soma"
   ]
  },
  {
   "cell_type": "markdown",
   "metadata": {},
   "source": [
    "### Para cada elemento do array da questão anterior, calcule:\n",
    "- O seno\n",
    "- O cosseno\n",
    "- O log na base 10\n",
    "- O valor arredondado para inteiro"
   ]
  },
  {
   "cell_type": "code",
   "execution_count": 14,
   "metadata": {},
   "outputs": [],
   "source": [
    "seno = np.sin(soma)\n",
    "cosseno = np.cos(soma)\n",
    "log10 = np.log10(soma)\n",
    "inteiro = np.round(soma)"
   ]
  },
  {
   "cell_type": "markdown",
   "metadata": {},
   "source": [
    "### Lembra que você obteve o seno de um array na questão anterior? Agora, você deve obter um array apenas com os valores positivos do array resultante daquela operação do seno.\n",
    "---"
   ]
  },
  {
   "cell_type": "code",
   "execution_count": 15,
   "metadata": {},
   "outputs": [
    {
     "data": {
      "text/plain": [
       "array([0.99525343, 0.32172573, 0.95796382, 0.73306933, 0.99625055,\n",
       "       0.05627404, 0.87681073, 0.19637781, 0.58924326, 0.97905898,\n",
       "       0.96959911, 0.27022967, 0.99001853, 0.93983136, 0.14979849,\n",
       "       0.23877355, 0.26687281, 0.88088072])"
      ]
     },
     "execution_count": 15,
     "metadata": {},
     "output_type": "execute_result"
    }
   ],
   "source": [
    "seno_positivos = np.array([valor for valor in seno if valor > 0])\n",
    "seno_positivos"
   ]
  },
  {
   "cell_type": "code",
   "execution_count": 16,
   "metadata": {},
   "outputs": [
    {
     "data": {
      "text/plain": [
       "array([0.99525343, 0.32172573, 0.95796382, 0.73306933, 0.99625055,\n",
       "       0.05627404, 0.87681073, 0.19637781, 0.58924326, 0.97905898,\n",
       "       0.96959911, 0.27022967, 0.99001853, 0.93983136, 0.14979849,\n",
       "       0.23877355, 0.26687281, 0.88088072])"
      ]
     },
     "execution_count": 16,
     "metadata": {},
     "output_type": "execute_result"
    }
   ],
   "source": [
    "#Método do professor (mais usado)\n",
    "seno[seno > 0]"
   ]
  },
  {
   "cell_type": "markdown",
   "metadata": {},
   "source": [
    "### Para os dados contidos no array da Q6, obtenha:\n",
    "\n",
    "- O valor mínimo\n",
    "- O valor máximo\n",
    "- A posição do valor mínimo\n",
    "- A posição do valor máximo\n",
    "- A média dos dados\n",
    "- A mediana\n",
    "- A moda\n",
    "- A variância\n",
    "- O desvio padrão\n",
    "- O array ordenado (forma crescente)"
   ]
  },
  {
   "cell_type": "code",
   "execution_count": 79,
   "metadata": {},
   "outputs": [],
   "source": [
    "maximo = np.max(soma)\n",
    "minimo = np.min(soma)\n",
    "pos_min = np.argmin(soma)\n",
    "pos_max = np.argmax(soma)\n",
    "media = np.mean(soma)\n",
    "mediana = np.median(soma)\n",
    "variancia = np.var(soma)\n",
    "desvio_padrao = np.std(soma)\n",
    "ordenado = np.sort(soma)\n"
   ]
  },
  {
   "cell_type": "markdown",
   "metadata": {},
   "source": [
    "### Crie outro array aleatório, porém, dessa vez, com 25 elementos inteiros, no intervalo [50, 100). Em seguida, converta esse array em uma matriz 5 x 5.\n",
    "---"
   ]
  },
  {
   "cell_type": "code",
   "execution_count": 18,
   "metadata": {},
   "outputs": [],
   "source": [
    "array5 = np.random.randint(50, 100, 25)\n",
    "array5 = array5.reshape((5, 5))"
   ]
  },
  {
   "cell_type": "markdown",
   "metadata": {},
   "source": [
    "### Construa a matriz ilustrada pela figura abaixo. Em seguida, obtenha os slices (fatiamentos) destacados em cada cor. Em outras palavras, utilizando o conceito de slices, crie um novo array que contenha os dados destacados em vermelho, azul, roxo e verde.\n",
    "---"
   ]
  },
  {
   "cell_type": "code",
   "execution_count": 94,
   "metadata": {},
   "outputs": [
    {
     "data": {
      "text/plain": [
       "array([ 3,  4,  2, 12, 22, 32, 42, 52, 20, 22, 24, 40, 42, 44, 44, 55])"
      ]
     },
     "execution_count": 94,
     "metadata": {},
     "output_type": "execute_result"
    }
   ],
   "source": [
    "matriz = np.vstack((np.arange(6), np.arange(10, 16), np.arange(20, 26), np.arange(30, 36),\n",
    "                    np.arange(40, 46), np.arange(50, 56)))\n",
    "\n",
    "vermelho = matriz[0, (3, 4)]\n",
    "azul = matriz[:,2]\n",
    "roxo = np.array([matriz[2, 0], matriz[2, 2], matriz[2, 4], matriz[4, 0], matriz[4, 2], matriz[4, 4]])\n",
    "verde = matriz[(4, 5), (4, 5)]\n",
    "\n",
    "np.hstack([vermelho, azul, roxo, verde])"
   ]
  },
  {
   "cell_type": "markdown",
   "metadata": {},
   "source": [
    "### Sabendo disso, sua missão será carregar uma imagem colorida (em jpg) e exibir apenas a metade dessa imagem, tanto na horizontal quanto na vertical.\n",
    "---"
   ]
  },
  {
   "cell_type": "code",
   "execution_count": 2,
   "metadata": {},
   "outputs": [],
   "source": [
    "from skimage import io\n",
    "import numpy as np\n",
    "import matplotlib.pyplot as plt"
   ]
  },
  {
   "cell_type": "code",
   "execution_count": 11,
   "metadata": {},
   "outputs": [
    {
     "name": "stdout",
     "output_type": "stream",
     "text": [
      "<class 'numpy.ndarray'>\n"
     ]
    },
    {
     "data": {
      "text/plain": [
       "<matplotlib.image.AxesImage at 0x5855460>"
      ]
     },
     "execution_count": 11,
     "metadata": {},
     "output_type": "execute_result"
    },
    {
     "data": {
      "image/png": "[encoded data removed]",
      "text/plain": [
       "<Figure size 432x288 with 1 Axes>"
      ]
     },
     "metadata": {
      "needs_background": "light"
     },
     "output_type": "display_data"
    }
   ],
   "source": [
    "img = io.imread('logo-python.jpg') # Carregamento da imagem\n",
    "\n",
    "print(type(img))\n",
    "\n",
    "plt.imshow(img)# Exibição da imagem\n",
    "\n",
    "linha = img.shape[0]\n",
    "coluna = img.shape[1]\n",
    "\n",
    "plt.imshow(img[:linha//2, :coluna//2])\n"
   ]
  },
  {
   "cell_type": "code",
   "execution_count": 12,
   "metadata": {},
   "outputs": [
    {
     "data": {
      "text/plain": [
       "<matplotlib.image.AxesImage at 0x1355f40>"
      ]
     },
     "execution_count": 12,
     "metadata": {},
     "output_type": "execute_result"
    },
    {
     "data": {
      "image/png": "[encoded data removed]",
      "text/plain": [
       "<Figure size 432x288 with 1 Axes>"
      ]
     },
     "metadata": {
      "needs_background": "light"
     },
     "output_type": "display_data"
    }
   ],
   "source": [
    "#Acessando canais de cores\n",
    "\n",
    "# Canal vermelho\n",
    "img[:,:, 0] = 0\n",
    "#Canal verde\n",
    "img[:,:, 1] = 0\n",
    "plt.imshow(img)"
   ]
  }
 ],
 "metadata": {
  "kernelspec": {
   "display_name": "Python 3",
   "language": "python",
   "name": "python3"
  },
  "language_info": {
   "codemirror_mode": {
    "name": "ipython",
    "version": 3
   },
   "file_extension": ".py",
   "mimetype": "text/x-python",
   "name": "python",
   "nbconvert_exporter": "python",
   "pygments_lexer": "ipython3",
   "version": "3.8.5"
  }
 },
 "nbformat": 4,
 "nbformat_minor": 4
}
