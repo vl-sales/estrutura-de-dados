{
 "cells": [
  {
   "cell_type": "code",
   "execution_count": 10,
   "metadata": {
    "ExecuteTime": {
     "end_time": "2020-12-08T23:04:26.643268Z",
     "start_time": "2020-12-08T23:03:34.771896Z"
    }
   },
   "outputs": [
    {
     "name": "stdout",
     "output_type": "stream",
     "text": [
      "1- Listar Pacientes\n",
      "2- Adicionar Pacientes\n",
      "3- Sair\n",
      "O que deseja fazer (1/2/3): 2\n",
      "Informe o nome: Vinicius\n",
      "CPF: 40853816875\n",
      "E-mail: landeesfewf\n",
      "Idade: 20\n",
      "Peso: 90\n",
      "Altura: 1.9\n",
      "1- Listar Pacientes\n",
      "2- Adicionar Pacientes\n",
      "3- Sair\n",
      "O que deseja fazer (1/2/3): 1\n",
      "{'Vinicius': ['40853816875', 'landeesfewf', '20', 90.0, 1.9, 24.930747922437675]}\n",
      "1- Listar Pacientes\n",
      "2- Adicionar Pacientes\n",
      "3- Sair\n",
      "O que deseja fazer (1/2/3): 2\n",
      "Informe o nome: Gabriel\n",
      "CPF: 652656565\n",
      "E-mail: fdsfsfdsf\n",
      "Idade: 17\n",
      "Peso: 70\n",
      "Altura: 1.8\n",
      "1- Listar Pacientes\n",
      "2- Adicionar Pacientes\n",
      "3- Sair\n",
      "O que deseja fazer (1/2/3): 1\n",
      "{'Vinicius': ['40853816875', 'landeesfewf', '20', 90.0, 1.9, 24.930747922437675]}\n",
      "{'Gabriel': ['652656565', 'fdsfsfdsf', '17', 70.0, 1.8, 21.604938271604937]}\n",
      "1- Listar Pacientes\n",
      "2- Adicionar Pacientes\n",
      "3- Sair\n",
      "O que deseja fazer (1/2/3): 3\n"
     ]
    }
   ],
   "source": [
    "opcao = -1\n",
    "\n",
    "pacientes = []\n",
    "\n",
    "while opcao != 3:\n",
    "    print('1- Listar Pacientes\\n2- Adicionar Pacientes\\n3- Sair')\n",
    "    \n",
    "    opcao = int(input('O que deseja fazer (1/2/3): '))\n",
    "    \n",
    "    if opcao == 1:\n",
    "        for paciente in pacientes:\n",
    "            print(paciente)\n",
    "    elif opcao == 2:\n",
    "        nome = input('Informe o nome: ')\n",
    "        cpf  = input('CPF: ')\n",
    "        email = input('E-mail: ')\n",
    "        idade = input('Idade: ')\n",
    "        peso = float(input('Peso: '))\n",
    "        altura = float(input('Altura: '))\n",
    "        IMC = peso / (altura**2)\n",
    "        \n",
    "        pacientes.append({nome : [cpf, email, idade, peso, altura, IMC]})\n",
    "        \n",
    "    print('FIM')"
   ]
  },
  {
   "cell_type": "code",
   "execution_count": 11,
   "metadata": {
    "ExecuteTime": {
     "end_time": "2020-12-08T23:08:03.747716Z",
     "start_time": "2020-12-08T23:08:03.417638Z"
    }
   },
   "outputs": [],
   "source": [
    "import numpy as np"
   ]
  },
  {
   "cell_type": "code",
   "execution_count": 15,
   "metadata": {
    "ExecuteTime": {
     "end_time": "2020-12-08T23:11:34.843614Z",
     "start_time": "2020-12-08T23:11:34.836613Z"
    }
   },
   "outputs": [
    {
     "data": {
      "text/plain": [
       "array([96, 82, 88, 93, 94, 84])"
      ]
     },
     "execution_count": 15,
     "metadata": {},
     "output_type": "execute_result"
    }
   ],
   "source": [
    "np.random.seed(101)\n",
    "\n",
    "a = np.random.randint(1, 100, 25)\n",
    "\n",
    "a[a > 80]"
   ]
  },
  {
   "cell_type": "code",
   "execution_count": 19,
   "metadata": {
    "ExecuteTime": {
     "end_time": "2020-12-08T23:13:52.118701Z",
     "start_time": "2020-12-08T23:13:52.096041Z"
    }
   },
   "outputs": [
    {
     "data": {
      "text/plain": [
       "array([[ 42.64, -41.36,  28.64,  17.64,  10.64],\n",
       "       [ 34.64,  22.64, -43.36,  24.64, -12.36],\n",
       "       [-48.36,  10.64, -12.36,   7.64,  39.64],\n",
       "       [ 11.64, -47.36, -40.36,  40.64, -12.36],\n",
       "       [ -3.36,  30.64, -44.36, -23.36,   6.64]])"
      ]
     },
     "execution_count": 19,
     "metadata": {},
     "output_type": "execute_result"
    }
   ],
   "source": [
    "a = a.reshape(5, 5)\n",
    "media = np.mean(a)\n",
    "\n",
    "a2 = np.zeros((5, 5)) + media\n",
    "\n",
    "a - a2"
   ]
  },
  {
   "cell_type": "code",
   "execution_count": 20,
   "metadata": {
    "ExecuteTime": {
     "end_time": "2020-12-08T23:18:56.750604Z",
     "start_time": "2020-12-08T23:18:56.746604Z"
    }
   },
   "outputs": [],
   "source": [
    "def fibonacci(n):\n",
    "    if n == 1 or n == 2:\n",
    "        return n - 1\n",
    "    return fibonacci(n - 1) + fibonacci(n - 2)"
   ]
  },
  {
   "cell_type": "code",
   "execution_count": 21,
   "metadata": {
    "ExecuteTime": {
     "end_time": "2020-12-08T23:19:02.117091Z",
     "start_time": "2020-12-08T23:19:02.110089Z"
    }
   },
   "outputs": [
    {
     "data": {
      "text/plain": [
       "3"
      ]
     },
     "execution_count": 21,
     "metadata": {},
     "output_type": "execute_result"
    }
   ],
   "source": [
    "fibonacci(5)"
   ]
  },
  {
   "cell_type": "code",
   "execution_count": 32,
   "metadata": {
    "ExecuteTime": {
     "end_time": "2020-12-08T23:41:32.711388Z",
     "start_time": "2020-12-08T23:41:32.703064Z"
    }
   },
   "outputs": [],
   "source": [
    "class Arvore:\n",
    "    def __init__(self, raiz, esquerda=None, direita=None):\n",
    "        self.raiz = raiz\n",
    "        self.esquerda = esquerda\n",
    "        self.direita = direita    \n",
    "    \n",
    "    def decisao(self):\n",
    "        if self.direita == None and self.esquerda == None:\n",
    "            return self.raiz\n",
    "        \n",
    "        resposta = input(f'deseja {self.raiz} (S/N): ').upper()\n",
    "        \n",
    "        if resposta == 'S':\n",
    "            return self.direita.decisao()\n",
    "        if resposta == 'N':\n",
    "            return self.esquerda.decisao()"
   ]
  },
  {
   "cell_type": "code",
   "execution_count": 33,
   "metadata": {
    "ExecuteTime": {
     "end_time": "2020-12-08T23:41:33.059402Z",
     "start_time": "2020-12-08T23:41:33.052669Z"
    }
   },
   "outputs": [],
   "source": [
    "arvore = Arvore(raiz = 'Headphone',\n",
    "               esquerda = Arvore('Intra-auricular',\n",
    "                                esquerda = Arvore('Bluetooth',\n",
    "                                                 esquerda = Arvore('Philips SHE1350'),\n",
    "                                                 direita = Arvore('Apple Airpods 2')),\n",
    "                                direita = Arvore('Bluetooth',\n",
    "                                                esquerda = Arvore('JBL C50HI'),\n",
    "                                                direita = Arvore('Xiaomi Airdots 2'))),\n",
    "               direita = Arvore('Bluetooth',\n",
    "                               esquerda = Arvore('USB',\n",
    "                                                esquerda = Arvore('Sony MDR-ZX110'),\n",
    "                                                direita = Arvore('Logitech H390')),\n",
    "                               direita = Arvore('JBL T600 BT')))"
   ]
  },
  {
   "cell_type": "code",
   "execution_count": 35,
   "metadata": {
    "ExecuteTime": {
     "end_time": "2020-12-08T23:41:46.438427Z",
     "start_time": "2020-12-08T23:41:41.457573Z"
    }
   },
   "outputs": [
    {
     "name": "stdout",
     "output_type": "stream",
     "text": [
      "deseja Headphone (S/N): s\n",
      "deseja Bluetooth (S/N): n\n",
      "deseja USB (S/N): n\n"
     ]
    },
    {
     "data": {
      "text/plain": [
       "'Sony MDR-ZX110'"
      ]
     },
     "execution_count": 35,
     "metadata": {},
     "output_type": "execute_result"
    }
   ],
   "source": [
    "arvore.decisao()"
   ]
  },
  {
   "cell_type": "code",
   "execution_count": null,
   "metadata": {},
   "outputs": [],
   "source": []
  },
  {
   "cell_type": "code",
   "execution_count": 91,
   "metadata": {
    "ExecuteTime": {
     "end_time": "2020-12-09T00:25:41.156437Z",
     "start_time": "2020-12-09T00:25:41.145897Z"
    }
   },
   "outputs": [],
   "source": [
    "class Grafo:\n",
    "    def __init__(self, P):\n",
    "        self.N = P\n",
    "        self.adj = [[] for _ in range(P)]\n",
    "        \n",
    "    def __repr__(self):\n",
    "        return '\\n'.join([str(i) for i in self.adj])\n",
    "    \n",
    "    def add_edge(self, n1, n2):\n",
    "        self.adj[n1].append(n2)\n",
    "        self.adj[n2].append(n1)\n",
    "    \n",
    "    def realiza_conexoes(self, A, nomes):\n",
    "        for _ in range(A):\n",
    "            n1 = input('Informe o nome a se conectar: ')\n",
    "            n2 = input('Informe com quem ele se conecta: ')\n",
    "            self.add_edge(nomes[n1], nomes[n2])\n",
    "            \n",
    "    def DFS(self, n, visitados, conectados=[]):\n",
    "        visitados[n] = True\n",
    "        \n",
    "        conectados.append(n)\n",
    "        \n",
    "        for adjacente in self.adj[n]:\n",
    "            if not visitados[adjacente]:\n",
    "                self.DFS(adjacente, visitados, conectados)\n",
    "        return conectados"
   ]
  },
  {
   "cell_type": "code",
   "execution_count": 94,
   "metadata": {
    "ExecuteTime": {
     "end_time": "2020-12-09T00:27:49.804583Z",
     "start_time": "2020-12-09T00:26:59.997320Z"
    }
   },
   "outputs": [
    {
     "name": "stdout",
     "output_type": "stream",
     "text": [
      "Informe o numero de pessoas pessoas: 5\n",
      "Informe o numero de ligações: 4\n",
      "Informe o 1º nome: Joao\n",
      "Informe o 2º nome: Paulo\n",
      "Informe o 3º nome: Alex\n",
      "Informe o 4º nome: Melissa\n",
      "Informe o 5º nome: Claudio\n",
      "Agora vamos realizar as conexões: \n",
      "Informe o nome a se conectar: Joao\n",
      "Informe com quem ele se conecta: Alex\n",
      "Informe o nome a se conectar: Alex\n",
      "Informe com quem ele se conecta: Paulo\n",
      "Informe o nome a se conectar: Melissa\n",
      "Informe com quem ele se conecta: Claudio\n",
      "Informe o nome a se conectar: Joao\n",
      "Informe com quem ele se conecta: Paulo\n"
     ]
    }
   ],
   "source": [
    "def captura_nomes():\n",
    "    nomes = {}\n",
    "\n",
    "    for i in range(1, V + 1):\n",
    "        nome = input(f'Informe o {i}º nome: ')\n",
    "        nomes.update({nome : i-1})\n",
    "        \n",
    "    return nomes\n",
    "\n",
    "#Usuário informa a quantidade de vertices e ligações\n",
    "V = int(input('Informe o numero de pessoas pessoas: '))\n",
    "L = int(input('Informe o numero de ligações: '))\n",
    "grafo = Grafo(V)\n",
    "\n",
    "nomes = captura_nomes()\n",
    "        \n",
    "print('Agora vamos realizar as conexões: ')\n",
    "\n",
    "grafo.realiza_conexoes(L, nomes)\n"
   ]
  },
  {
   "cell_type": "code",
   "execution_count": 96,
   "metadata": {
    "ExecuteTime": {
     "end_time": "2020-12-09T00:28:10.673750Z",
     "start_time": "2020-12-09T00:28:10.668748Z"
    }
   },
   "outputs": [],
   "source": [
    "def procura_adjacentes():\n",
    "    procurado = input('Informe o nome: ')\n",
    "    \n",
    "    visitados = [False] * V\n",
    "\n",
    "    adjacentes = grafo.DFS(nomes['Paulo'], visitados, [])\n",
    "    \n",
    "    nomes_adjacentes = []\n",
    "    for i in adjacentes[1::]:\n",
    "        for nome, ident in nomes.items():\n",
    "            if ident == i:\n",
    "                nomes_adjacentes.append(nome)\n",
    "    return nomes_adjacentes"
   ]
  },
  {
   "cell_type": "code",
   "execution_count": 97,
   "metadata": {
    "ExecuteTime": {
     "end_time": "2020-12-09T00:28:15.365029Z",
     "start_time": "2020-12-09T00:28:11.877808Z"
    }
   },
   "outputs": [
    {
     "name": "stdout",
     "output_type": "stream",
     "text": [
      "Informe o nome da pessoa que procura: Paulo\n"
     ]
    },
    {
     "data": {
      "text/plain": [
       "['Alex', 'Joao']"
      ]
     },
     "execution_count": 97,
     "metadata": {},
     "output_type": "execute_result"
    }
   ],
   "source": [
    "procura_adjacentes()"
   ]
  },
  {
   "cell_type": "code",
   "execution_count": null,
   "metadata": {},
   "outputs": [],
   "source": []
  }
 ],
 "metadata": {
  "kernelspec": {
   "display_name": "Python 3",
   "language": "python",
   "name": "python3"
  },
  "language_info": {
   "codemirror_mode": {
    "name": "ipython",
    "version": 3
   },
   "file_extension": ".py",
   "mimetype": "text/x-python",
   "name": "python",
   "nbconvert_exporter": "python",
   "pygments_lexer": "ipython3",
   "version": "3.8.5"
  }
 },
 "nbformat": 4,
 "nbformat_minor": 4
}
