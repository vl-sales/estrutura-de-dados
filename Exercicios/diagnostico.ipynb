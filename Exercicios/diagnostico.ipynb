{
 "cells": [
  {
   "cell_type": "code",
   "execution_count": 6,
   "metadata": {
    "ExecuteTime": {
     "end_time": "2020-12-01T23:23:49.148121Z",
     "start_time": "2020-12-01T23:23:49.140966Z"
    }
   },
   "outputs": [],
   "source": [
    "class Arvore:\n",
    "    def __init__(self, raiz, direita=None, esquerda=None):\n",
    "        self.raiz = raiz\n",
    "        self.direita = direita\n",
    "        self.esquerda = esquerda\n",
    "    \n",
    "    def diagnostico(self):\n",
    "        if self.esquerda == None and self.direita == None:\n",
    "            return self.raiz\n",
    "        \n",
    "        resposta = input(f'Está com {self.raiz}(S/N): ').upper()\n",
    "        \n",
    "        if resposta == 'S':\n",
    "            return self.direita.diagnostico()\n",
    "        elif resposta == 'N':\n",
    "            return self.esquerda.diagnostico()\n",
    "        "
   ]
  },
  {
   "cell_type": "code",
   "execution_count": 2,
   "metadata": {
    "ExecuteTime": {
     "end_time": "2020-12-01T22:46:18.772815Z",
     "start_time": "2020-12-01T22:46:18.765803Z"
    }
   },
   "outputs": [],
   "source": [
    "arvore = Arvore('Mal estar',\n",
    "                direita = Arvore('Dor de cabeça',\n",
    "                                direita = Arvore('Boca seca',\n",
    "                                                direita = Arvore('Ressaca'),\n",
    "                                                esquerda = Arvore('Falta de café')),\n",
    "                                esquerda = Arvore('Vomito',\n",
    "                                                 direita = Arvore('Infecção intestinal'),\n",
    "                                                 esquerda = Arvore('Fome'))),\n",
    "                esquerda = Arvore('Febre',\n",
    "                                direita = Arvore('Mancha',\n",
    "                                                direita = Arvore('Sarampo'),\n",
    "                                                esquerda = Arvore('Virose')),\n",
    "                                esquerda = Arvore('Dor de cabeça',\n",
    "                                                 direita = Arvore('Fadiga'),\n",
    "                                                 esquerda = Arvore('Saudável'))))"
   ]
  },
  {
   "cell_type": "code",
   "execution_count": 4,
   "metadata": {
    "ExecuteTime": {
     "end_time": "2020-12-01T22:47:16.887657Z",
     "start_time": "2020-12-01T22:47:12.488336Z"
    }
   },
   "outputs": [
    {
     "name": "stdout",
     "output_type": "stream",
     "text": [
      "Está sentindo Mal estar(S/N): n\n",
      "Está sentindo Febre(S/N): n\n",
      "Está sentindo Dor de cabeça(S/N): s\n"
     ]
    },
    {
     "data": {
      "text/plain": [
       "'Fadiga'"
      ]
     },
     "execution_count": 4,
     "metadata": {},
     "output_type": "execute_result"
    }
   ],
   "source": [
    "arvore.diagnostico()"
   ]
  },
  {
   "cell_type": "code",
   "execution_count": null,
   "metadata": {},
   "outputs": [],
   "source": []
  }
 ],
 "metadata": {
  "kernelspec": {
   "display_name": "Python 3",
   "language": "python",
   "name": "python3"
  },
  "language_info": {
   "codemirror_mode": {
    "name": "ipython",
    "version": 3
   },
   "file_extension": ".py",
   "mimetype": "text/x-python",
   "name": "python",
   "nbconvert_exporter": "python",
   "pygments_lexer": "ipython3",
   "version": "3.8.5"
  }
 },
 "nbformat": 4,
 "nbformat_minor": 4
}
